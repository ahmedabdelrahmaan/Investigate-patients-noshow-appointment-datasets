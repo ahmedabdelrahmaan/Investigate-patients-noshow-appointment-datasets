{
 "cells": [
  {
   "cell_type": "markdown",
   "id": "chicken-testimony",
   "metadata": {},
   "source": [
    "# Project: Investigate No-Show Appointments Dataset"
   ]
  },
  {
   "cell_type": "markdown",
   "id": "statewide-leisure",
   "metadata": {},
   "source": [
    "# Introduction\n",
    "We are going to investigate No-Show Appointments Dataset that contains 110.527 medical\n",
    "appointments with its 14 associated variables. \n",
    "\n",
    "Variables are\n",
    "#### 1 - PatientId: Identification of a patient\n",
    "#### 2 - AppointmentID: Identification of each appointment\n",
    "#### 3 - Gender: Male or Female \n",
    "#### 4 - ScheduledDay:The day someone called or registered the appointment.\n",
    "#### 5 - AppointmentDay:The day of the actual appointment, when they have to visit the doctor.\n",
    "#### 6 - Age: How old the patient is.\n",
    "#### 7 - Neighbourhood: Where the appointment takes place.\n",
    "#### 8 - Scholarship: True of False . \n",
    "Observation, this is a broad topic, consider reading this article https://en.wikipedia.org/wiki/Bolsa_Fam%C3%ADlia\n",
    "#### 9 - Hipertension: True or False\n",
    "#### 10 - Diabetes: True or False\n",
    "#### 11- Alcoholism: True or False\n",
    "#### 12 - Handcap:  The number of disabilites a person has. According to dataset creator https://www.kaggle.com/joniarroba/noshowappointments/discussion/29699\n",
    "#### 13- SMS_received: True or False.\n",
    "#### 14- No-show: True or False.\n",
    "\n",
    "## From the Dataset we can try to figure out the answer to some questions such as:\n",
    "#### 1- What gender has greater appointments?\n",
    "#### 2- Which Neighbourhood has greater appointments?\n",
    "#### 3- What is the average age of people having Diabetes?\n",
    "#### 4- What is the average age of people having Hipertension?\n",
    "#### 5- Which Neighbourhood has greater percent of people having Diabetes,Hipertension or  Alcoholism?\n",
    "#### 6- What factors are important for us to know in order to predict if a patient will show up for their scheduled appointment?\n",
    "#### 7- What are the insights that we can conclude from data of people with chronic diseases like Hipertension and  Diabetes?\n",
    "\n",
    "### I have chosen two questions for analysis which are\n",
    "#### 1- What are the insights that we can conclude from data of people with chronic diseases like Hipertension and  Diabetes?\n",
    "#### 2- What factors are important for us to know in order to predict if a patient will show up for their scheduled appointment?"
   ]
  },
  {
   "cell_type": "markdown",
   "id": "tracked-flour",
   "metadata": {},
   "source": [
    "# Importing Libraries"
   ]
  },
  {
   "cell_type": "code",
   "execution_count": 1,
   "id": "velvet-bracket",
   "metadata": {},
   "outputs": [],
   "source": [
    "import pandas as pd\n",
    "import numpy as np\n",
    "%matplotlib inline\n",
    "import matplotlib.pyplot as plt"
   ]
  },
  {
   "cell_type": "markdown",
   "id": "temporal-allen",
   "metadata": {},
   "source": [
    "# 1. Data Wrangling"
   ]
  },
  {
   "cell_type": "markdown",
   "id": "dimensional-bennett",
   "metadata": {},
   "source": [
    "## 1.1 Data Loading"
   ]
  },
  {
   "cell_type": "code",
   "execution_count": 2,
   "id": "statutory-integer",
   "metadata": {},
   "outputs": [],
   "source": [
    "df = pd.read_csv(\"noshowappointments-kagglev2-may-2016.csv\")"
   ]
  },
  {
   "cell_type": "markdown",
   "id": "coastal-settlement",
   "metadata": {},
   "source": [
    "## 1.2 Data Assessing\n",
    "\n"
   ]
  },
  {
   "cell_type": "markdown",
   "id": "binary-mexican",
   "metadata": {},
   "source": [
    "### &nbsp;&nbsp;&nbsp;&nbsp;   1.2.1 Visual Assessing"
   ]
  },
  {
   "cell_type": "code",
   "execution_count": 3,
   "id": "informational-spring",
   "metadata": {
    "scrolled": true
   },
   "outputs": [
    {
     "data": {
      "text/html": [
       "<div>\n",
       "<style scoped>\n",
       "    .dataframe tbody tr th:only-of-type {\n",
       "        vertical-align: middle;\n",
       "    }\n",
       "\n",
       "    .dataframe tbody tr th {\n",
       "        vertical-align: top;\n",
       "    }\n",
       "\n",
       "    .dataframe thead th {\n",
       "        text-align: right;\n",
       "    }\n",
       "</style>\n",
       "<table border=\"1\" class=\"dataframe\">\n",
       "  <thead>\n",
       "    <tr style=\"text-align: right;\">\n",
       "      <th></th>\n",
       "      <th>PatientId</th>\n",
       "      <th>AppointmentID</th>\n",
       "      <th>Gender</th>\n",
       "      <th>ScheduledDay</th>\n",
       "      <th>AppointmentDay</th>\n",
       "      <th>Age</th>\n",
       "      <th>Neighbourhood</th>\n",
       "      <th>Scholarship</th>\n",
       "      <th>Hipertension</th>\n",
       "      <th>Diabetes</th>\n",
       "      <th>Alcoholism</th>\n",
       "      <th>Handcap</th>\n",
       "      <th>SMS_received</th>\n",
       "      <th>No-show</th>\n",
       "    </tr>\n",
       "  </thead>\n",
       "  <tbody>\n",
       "    <tr>\n",
       "      <th>79048</th>\n",
       "      <td>4.826832e+13</td>\n",
       "      <td>5707667</td>\n",
       "      <td>M</td>\n",
       "      <td>2016-05-17T09:56:12Z</td>\n",
       "      <td>2016-05-17T00:00:00Z</td>\n",
       "      <td>4</td>\n",
       "      <td>ILHA DE SANTA MARIA</td>\n",
       "      <td>0</td>\n",
       "      <td>0</td>\n",
       "      <td>0</td>\n",
       "      <td>0</td>\n",
       "      <td>0</td>\n",
       "      <td>0</td>\n",
       "      <td>No</td>\n",
       "    </tr>\n",
       "    <tr>\n",
       "      <th>30891</th>\n",
       "      <td>2.727744e+14</td>\n",
       "      <td>5684148</td>\n",
       "      <td>F</td>\n",
       "      <td>2016-05-11T08:17:22Z</td>\n",
       "      <td>2016-05-24T00:00:00Z</td>\n",
       "      <td>46</td>\n",
       "      <td>PARQUE MOSCOSO</td>\n",
       "      <td>0</td>\n",
       "      <td>0</td>\n",
       "      <td>0</td>\n",
       "      <td>0</td>\n",
       "      <td>0</td>\n",
       "      <td>1</td>\n",
       "      <td>Yes</td>\n",
       "    </tr>\n",
       "    <tr>\n",
       "      <th>14143</th>\n",
       "      <td>8.415239e+12</td>\n",
       "      <td>5666621</td>\n",
       "      <td>F</td>\n",
       "      <td>2016-05-05T18:59:23Z</td>\n",
       "      <td>2016-05-05T00:00:00Z</td>\n",
       "      <td>39</td>\n",
       "      <td>BONFIM</td>\n",
       "      <td>0</td>\n",
       "      <td>0</td>\n",
       "      <td>0</td>\n",
       "      <td>0</td>\n",
       "      <td>0</td>\n",
       "      <td>0</td>\n",
       "      <td>No</td>\n",
       "    </tr>\n",
       "    <tr>\n",
       "      <th>36527</th>\n",
       "      <td>2.386688e+11</td>\n",
       "      <td>5720104</td>\n",
       "      <td>M</td>\n",
       "      <td>2016-05-19T13:19:04Z</td>\n",
       "      <td>2016-05-19T00:00:00Z</td>\n",
       "      <td>1</td>\n",
       "      <td>GURIGICA</td>\n",
       "      <td>0</td>\n",
       "      <td>0</td>\n",
       "      <td>0</td>\n",
       "      <td>0</td>\n",
       "      <td>0</td>\n",
       "      <td>0</td>\n",
       "      <td>No</td>\n",
       "    </tr>\n",
       "    <tr>\n",
       "      <th>2850</th>\n",
       "      <td>6.158625e+13</td>\n",
       "      <td>5468655</td>\n",
       "      <td>F</td>\n",
       "      <td>2016-03-15T08:34:41Z</td>\n",
       "      <td>2016-04-29T00:00:00Z</td>\n",
       "      <td>46</td>\n",
       "      <td>FRADINHOS</td>\n",
       "      <td>0</td>\n",
       "      <td>0</td>\n",
       "      <td>0</td>\n",
       "      <td>0</td>\n",
       "      <td>0</td>\n",
       "      <td>1</td>\n",
       "      <td>No</td>\n",
       "    </tr>\n",
       "    <tr>\n",
       "      <th>37436</th>\n",
       "      <td>7.558818e+11</td>\n",
       "      <td>5668652</td>\n",
       "      <td>M</td>\n",
       "      <td>2016-05-06T09:29:40Z</td>\n",
       "      <td>2016-05-06T00:00:00Z</td>\n",
       "      <td>4</td>\n",
       "      <td>FORTE SÃO JOÃO</td>\n",
       "      <td>0</td>\n",
       "      <td>0</td>\n",
       "      <td>0</td>\n",
       "      <td>0</td>\n",
       "      <td>0</td>\n",
       "      <td>0</td>\n",
       "      <td>No</td>\n",
       "    </tr>\n",
       "    <tr>\n",
       "      <th>96837</th>\n",
       "      <td>9.389457e+11</td>\n",
       "      <td>5761843</td>\n",
       "      <td>F</td>\n",
       "      <td>2016-06-02T07:07:57Z</td>\n",
       "      <td>2016-06-02T00:00:00Z</td>\n",
       "      <td>34</td>\n",
       "      <td>MARUÍPE</td>\n",
       "      <td>0</td>\n",
       "      <td>1</td>\n",
       "      <td>0</td>\n",
       "      <td>0</td>\n",
       "      <td>0</td>\n",
       "      <td>0</td>\n",
       "      <td>No</td>\n",
       "    </tr>\n",
       "    <tr>\n",
       "      <th>63166</th>\n",
       "      <td>1.512217e+14</td>\n",
       "      <td>5655327</td>\n",
       "      <td>F</td>\n",
       "      <td>2016-05-03T16:43:02Z</td>\n",
       "      <td>2016-05-03T00:00:00Z</td>\n",
       "      <td>24</td>\n",
       "      <td>JARDIM CAMBURI</td>\n",
       "      <td>0</td>\n",
       "      <td>0</td>\n",
       "      <td>0</td>\n",
       "      <td>0</td>\n",
       "      <td>0</td>\n",
       "      <td>0</td>\n",
       "      <td>No</td>\n",
       "    </tr>\n",
       "    <tr>\n",
       "      <th>108135</th>\n",
       "      <td>3.414894e+13</td>\n",
       "      <td>5766579</td>\n",
       "      <td>F</td>\n",
       "      <td>2016-06-02T15:22:21Z</td>\n",
       "      <td>2016-06-07T00:00:00Z</td>\n",
       "      <td>28</td>\n",
       "      <td>SANTOS REIS</td>\n",
       "      <td>0</td>\n",
       "      <td>0</td>\n",
       "      <td>0</td>\n",
       "      <td>0</td>\n",
       "      <td>0</td>\n",
       "      <td>1</td>\n",
       "      <td>No</td>\n",
       "    </tr>\n",
       "    <tr>\n",
       "      <th>101921</th>\n",
       "      <td>6.279814e+14</td>\n",
       "      <td>5777154</td>\n",
       "      <td>F</td>\n",
       "      <td>2016-06-06T13:09:26Z</td>\n",
       "      <td>2016-06-06T00:00:00Z</td>\n",
       "      <td>17</td>\n",
       "      <td>RESISTÊNCIA</td>\n",
       "      <td>0</td>\n",
       "      <td>0</td>\n",
       "      <td>0</td>\n",
       "      <td>0</td>\n",
       "      <td>0</td>\n",
       "      <td>0</td>\n",
       "      <td>No</td>\n",
       "    </tr>\n",
       "  </tbody>\n",
       "</table>\n",
       "</div>"
      ],
      "text/plain": [
       "           PatientId  AppointmentID Gender          ScheduledDay  \\\n",
       "79048   4.826832e+13        5707667      M  2016-05-17T09:56:12Z   \n",
       "30891   2.727744e+14        5684148      F  2016-05-11T08:17:22Z   \n",
       "14143   8.415239e+12        5666621      F  2016-05-05T18:59:23Z   \n",
       "36527   2.386688e+11        5720104      M  2016-05-19T13:19:04Z   \n",
       "2850    6.158625e+13        5468655      F  2016-03-15T08:34:41Z   \n",
       "37436   7.558818e+11        5668652      M  2016-05-06T09:29:40Z   \n",
       "96837   9.389457e+11        5761843      F  2016-06-02T07:07:57Z   \n",
       "63166   1.512217e+14        5655327      F  2016-05-03T16:43:02Z   \n",
       "108135  3.414894e+13        5766579      F  2016-06-02T15:22:21Z   \n",
       "101921  6.279814e+14        5777154      F  2016-06-06T13:09:26Z   \n",
       "\n",
       "              AppointmentDay  Age        Neighbourhood  Scholarship  \\\n",
       "79048   2016-05-17T00:00:00Z    4  ILHA DE SANTA MARIA            0   \n",
       "30891   2016-05-24T00:00:00Z   46       PARQUE MOSCOSO            0   \n",
       "14143   2016-05-05T00:00:00Z   39               BONFIM            0   \n",
       "36527   2016-05-19T00:00:00Z    1             GURIGICA            0   \n",
       "2850    2016-04-29T00:00:00Z   46            FRADINHOS            0   \n",
       "37436   2016-05-06T00:00:00Z    4       FORTE SÃO JOÃO            0   \n",
       "96837   2016-06-02T00:00:00Z   34              MARUÍPE            0   \n",
       "63166   2016-05-03T00:00:00Z   24       JARDIM CAMBURI            0   \n",
       "108135  2016-06-07T00:00:00Z   28          SANTOS REIS            0   \n",
       "101921  2016-06-06T00:00:00Z   17          RESISTÊNCIA            0   \n",
       "\n",
       "        Hipertension  Diabetes  Alcoholism  Handcap  SMS_received No-show  \n",
       "79048              0         0           0        0             0      No  \n",
       "30891              0         0           0        0             1     Yes  \n",
       "14143              0         0           0        0             0      No  \n",
       "36527              0         0           0        0             0      No  \n",
       "2850               0         0           0        0             1      No  \n",
       "37436              0         0           0        0             0      No  \n",
       "96837              1         0           0        0             0      No  \n",
       "63166              0         0           0        0             0      No  \n",
       "108135             0         0           0        0             1      No  \n",
       "101921             0         0           0        0             0      No  "
      ]
     },
     "execution_count": 3,
     "metadata": {},
     "output_type": "execute_result"
    }
   ],
   "source": [
    "df.sample(10)"
   ]
  },
  {
   "cell_type": "markdown",
   "id": "mediterranean-alaska",
   "metadata": {},
   "source": [
    "### &nbsp;&nbsp;&nbsp;&nbsp;   1.2.2 Programmatic Assessing"
   ]
  },
  {
   "cell_type": "code",
   "execution_count": 4,
   "id": "hearing-trainer",
   "metadata": {},
   "outputs": [
    {
     "name": "stdout",
     "output_type": "stream",
     "text": [
      "<class 'pandas.core.frame.DataFrame'>\n",
      "RangeIndex: 110527 entries, 0 to 110526\n",
      "Data columns (total 14 columns):\n",
      " #   Column          Non-Null Count   Dtype  \n",
      "---  ------          --------------   -----  \n",
      " 0   PatientId       110527 non-null  float64\n",
      " 1   AppointmentID   110527 non-null  int64  \n",
      " 2   Gender          110527 non-null  object \n",
      " 3   ScheduledDay    110527 non-null  object \n",
      " 4   AppointmentDay  110527 non-null  object \n",
      " 5   Age             110527 non-null  int64  \n",
      " 6   Neighbourhood   110527 non-null  object \n",
      " 7   Scholarship     110527 non-null  int64  \n",
      " 8   Hipertension    110527 non-null  int64  \n",
      " 9   Diabetes        110527 non-null  int64  \n",
      " 10  Alcoholism      110527 non-null  int64  \n",
      " 11  Handcap         110527 non-null  int64  \n",
      " 12  SMS_received    110527 non-null  int64  \n",
      " 13  No-show         110527 non-null  object \n",
      "dtypes: float64(1), int64(8), object(5)\n",
      "memory usage: 11.8+ MB\n"
     ]
    }
   ],
   "source": [
    "df.info()"
   ]
  },
  {
   "cell_type": "code",
   "execution_count": 5,
   "id": "vulnerable-slovakia",
   "metadata": {},
   "outputs": [
    {
     "data": {
      "text/html": [
       "<div>\n",
       "<style scoped>\n",
       "    .dataframe tbody tr th:only-of-type {\n",
       "        vertical-align: middle;\n",
       "    }\n",
       "\n",
       "    .dataframe tbody tr th {\n",
       "        vertical-align: top;\n",
       "    }\n",
       "\n",
       "    .dataframe thead th {\n",
       "        text-align: right;\n",
       "    }\n",
       "</style>\n",
       "<table border=\"1\" class=\"dataframe\">\n",
       "  <thead>\n",
       "    <tr style=\"text-align: right;\">\n",
       "      <th></th>\n",
       "      <th>PatientId</th>\n",
       "      <th>AppointmentID</th>\n",
       "      <th>Age</th>\n",
       "      <th>Scholarship</th>\n",
       "      <th>Hipertension</th>\n",
       "      <th>Diabetes</th>\n",
       "      <th>Alcoholism</th>\n",
       "      <th>Handcap</th>\n",
       "      <th>SMS_received</th>\n",
       "    </tr>\n",
       "  </thead>\n",
       "  <tbody>\n",
       "    <tr>\n",
       "      <th>count</th>\n",
       "      <td>1.105270e+05</td>\n",
       "      <td>1.105270e+05</td>\n",
       "      <td>110527.000000</td>\n",
       "      <td>110527.000000</td>\n",
       "      <td>110527.000000</td>\n",
       "      <td>110527.000000</td>\n",
       "      <td>110527.000000</td>\n",
       "      <td>110527.000000</td>\n",
       "      <td>110527.000000</td>\n",
       "    </tr>\n",
       "    <tr>\n",
       "      <th>mean</th>\n",
       "      <td>1.474963e+14</td>\n",
       "      <td>5.675305e+06</td>\n",
       "      <td>37.088874</td>\n",
       "      <td>0.098266</td>\n",
       "      <td>0.197246</td>\n",
       "      <td>0.071865</td>\n",
       "      <td>0.030400</td>\n",
       "      <td>0.022248</td>\n",
       "      <td>0.321026</td>\n",
       "    </tr>\n",
       "    <tr>\n",
       "      <th>std</th>\n",
       "      <td>2.560949e+14</td>\n",
       "      <td>7.129575e+04</td>\n",
       "      <td>23.110205</td>\n",
       "      <td>0.297675</td>\n",
       "      <td>0.397921</td>\n",
       "      <td>0.258265</td>\n",
       "      <td>0.171686</td>\n",
       "      <td>0.161543</td>\n",
       "      <td>0.466873</td>\n",
       "    </tr>\n",
       "    <tr>\n",
       "      <th>min</th>\n",
       "      <td>3.921784e+04</td>\n",
       "      <td>5.030230e+06</td>\n",
       "      <td>-1.000000</td>\n",
       "      <td>0.000000</td>\n",
       "      <td>0.000000</td>\n",
       "      <td>0.000000</td>\n",
       "      <td>0.000000</td>\n",
       "      <td>0.000000</td>\n",
       "      <td>0.000000</td>\n",
       "    </tr>\n",
       "    <tr>\n",
       "      <th>25%</th>\n",
       "      <td>4.172614e+12</td>\n",
       "      <td>5.640286e+06</td>\n",
       "      <td>18.000000</td>\n",
       "      <td>0.000000</td>\n",
       "      <td>0.000000</td>\n",
       "      <td>0.000000</td>\n",
       "      <td>0.000000</td>\n",
       "      <td>0.000000</td>\n",
       "      <td>0.000000</td>\n",
       "    </tr>\n",
       "    <tr>\n",
       "      <th>50%</th>\n",
       "      <td>3.173184e+13</td>\n",
       "      <td>5.680573e+06</td>\n",
       "      <td>37.000000</td>\n",
       "      <td>0.000000</td>\n",
       "      <td>0.000000</td>\n",
       "      <td>0.000000</td>\n",
       "      <td>0.000000</td>\n",
       "      <td>0.000000</td>\n",
       "      <td>0.000000</td>\n",
       "    </tr>\n",
       "    <tr>\n",
       "      <th>75%</th>\n",
       "      <td>9.439172e+13</td>\n",
       "      <td>5.725524e+06</td>\n",
       "      <td>55.000000</td>\n",
       "      <td>0.000000</td>\n",
       "      <td>0.000000</td>\n",
       "      <td>0.000000</td>\n",
       "      <td>0.000000</td>\n",
       "      <td>0.000000</td>\n",
       "      <td>1.000000</td>\n",
       "    </tr>\n",
       "    <tr>\n",
       "      <th>max</th>\n",
       "      <td>9.999816e+14</td>\n",
       "      <td>5.790484e+06</td>\n",
       "      <td>115.000000</td>\n",
       "      <td>1.000000</td>\n",
       "      <td>1.000000</td>\n",
       "      <td>1.000000</td>\n",
       "      <td>1.000000</td>\n",
       "      <td>4.000000</td>\n",
       "      <td>1.000000</td>\n",
       "    </tr>\n",
       "  </tbody>\n",
       "</table>\n",
       "</div>"
      ],
      "text/plain": [
       "          PatientId  AppointmentID            Age    Scholarship  \\\n",
       "count  1.105270e+05   1.105270e+05  110527.000000  110527.000000   \n",
       "mean   1.474963e+14   5.675305e+06      37.088874       0.098266   \n",
       "std    2.560949e+14   7.129575e+04      23.110205       0.297675   \n",
       "min    3.921784e+04   5.030230e+06      -1.000000       0.000000   \n",
       "25%    4.172614e+12   5.640286e+06      18.000000       0.000000   \n",
       "50%    3.173184e+13   5.680573e+06      37.000000       0.000000   \n",
       "75%    9.439172e+13   5.725524e+06      55.000000       0.000000   \n",
       "max    9.999816e+14   5.790484e+06     115.000000       1.000000   \n",
       "\n",
       "        Hipertension       Diabetes     Alcoholism        Handcap  \\\n",
       "count  110527.000000  110527.000000  110527.000000  110527.000000   \n",
       "mean        0.197246       0.071865       0.030400       0.022248   \n",
       "std         0.397921       0.258265       0.171686       0.161543   \n",
       "min         0.000000       0.000000       0.000000       0.000000   \n",
       "25%         0.000000       0.000000       0.000000       0.000000   \n",
       "50%         0.000000       0.000000       0.000000       0.000000   \n",
       "75%         0.000000       0.000000       0.000000       0.000000   \n",
       "max         1.000000       1.000000       1.000000       4.000000   \n",
       "\n",
       "        SMS_received  \n",
       "count  110527.000000  \n",
       "mean        0.321026  \n",
       "std         0.466873  \n",
       "min         0.000000  \n",
       "25%         0.000000  \n",
       "50%         0.000000  \n",
       "75%         1.000000  \n",
       "max         1.000000  "
      ]
     },
     "execution_count": 5,
     "metadata": {},
     "output_type": "execute_result"
    }
   ],
   "source": [
    "df.describe()"
   ]
  },
  {
   "cell_type": "code",
   "execution_count": 6,
   "id": "scheduled-china",
   "metadata": {},
   "outputs": [
    {
     "data": {
      "text/plain": [
       "PatientId          62299\n",
       "AppointmentID     110527\n",
       "Gender                 2\n",
       "ScheduledDay      103549\n",
       "AppointmentDay        27\n",
       "Age                  104\n",
       "Neighbourhood         81\n",
       "Scholarship            2\n",
       "Hipertension           2\n",
       "Diabetes               2\n",
       "Alcoholism             2\n",
       "Handcap                5\n",
       "SMS_received           2\n",
       "No-show                2\n",
       "dtype: int64"
      ]
     },
     "execution_count": 6,
     "metadata": {},
     "output_type": "execute_result"
    }
   ],
   "source": [
    "#Get number of unique values in each column\n",
    "df.nunique()"
   ]
  },
  {
   "cell_type": "code",
   "execution_count": 7,
   "id": "selective-arrow",
   "metadata": {},
   "outputs": [
    {
     "data": {
      "text/plain": [
       "-1         1\n",
       " 0      3539\n",
       " 1      2273\n",
       " 2      1618\n",
       " 3      1513\n",
       "        ... \n",
       " 98        6\n",
       " 99        1\n",
       " 100       4\n",
       " 102       2\n",
       " 115       5\n",
       "Name: Age, Length: 104, dtype: int64"
      ]
     },
     "execution_count": 7,
     "metadata": {},
     "output_type": "execute_result"
    }
   ],
   "source": [
    "df[\"Age\"].value_counts().sort_index()"
   ]
  },
  {
   "cell_type": "markdown",
   "id": "cardiac-premises",
   "metadata": {},
   "source": [
    "## &nbsp;&nbsp;&nbsp;&nbsp; 1.2.3 Assessment Summary\n",
    "### &nbsp;&nbsp;&nbsp;&nbsp;&nbsp; 1- No Missing values found.\n",
    "### &nbsp;&nbsp;&nbsp;&nbsp;&nbsp; 2- Wrong data in (Age) column as the min value is (-1).\n",
    "### &nbsp;&nbsp;&nbsp;&nbsp;&nbsp; 3- Inappropriate data types in  AppointmentDay and ScheduledDay columns \n",
    "### &nbsp;&nbsp;&nbsp;&nbsp;&nbsp; 4- Wrong column name (Handcap).\n",
    "### &nbsp;&nbsp;&nbsp;&nbsp;&nbsp; 4- Some columns should be added to aid the analysis.\n"
   ]
  },
  {
   "cell_type": "markdown",
   "id": "solved-session",
   "metadata": {},
   "source": [
    "# 2 . Data cleaning"
   ]
  },
  {
   "cell_type": "markdown",
   "id": "level-montgomery",
   "metadata": {},
   "source": [
    "## &nbsp;&nbsp;&nbsp;&nbsp; 2.1 Drop values less than 0 in (Age) column\n"
   ]
  },
  {
   "cell_type": "code",
   "execution_count": 8,
   "id": "noble-cream",
   "metadata": {},
   "outputs": [],
   "source": [
    "# Code\n",
    "df = df[df[\"Age\"]>= 0]"
   ]
  },
  {
   "cell_type": "code",
   "execution_count": 9,
   "id": "cubic-crown",
   "metadata": {},
   "outputs": [
    {
     "data": {
      "text/plain": [
       "0      3539\n",
       "1      2273\n",
       "2      1618\n",
       "3      1513\n",
       "4      1299\n",
       "       ... \n",
       "98        6\n",
       "99        1\n",
       "100       4\n",
       "102       2\n",
       "115       5\n",
       "Name: Age, Length: 103, dtype: int64"
      ]
     },
     "execution_count": 9,
     "metadata": {},
     "output_type": "execute_result"
    }
   ],
   "source": [
    "#check\n",
    "df[\"Age\"].value_counts().sort_index()"
   ]
  },
  {
   "cell_type": "markdown",
   "id": "decreased-rotation",
   "metadata": {},
   "source": [
    "## &nbsp;&nbsp;&nbsp;&nbsp; 2.2 Change AppointmentDay and ScheduledDay columns to datetime."
   ]
  },
  {
   "cell_type": "code",
   "execution_count": 10,
   "id": "fitted-leather",
   "metadata": {},
   "outputs": [],
   "source": [
    "#CODE\n",
    "df[\"ScheduledDay\"] = pd.to_datetime(df[\"ScheduledDay\"])\n",
    "df[\"AppointmentDay\"] = pd.to_datetime(df[\"AppointmentDay\"])"
   ]
  },
  {
   "cell_type": "code",
   "execution_count": 11,
   "id": "blond-mozambique",
   "metadata": {},
   "outputs": [
    {
     "name": "stdout",
     "output_type": "stream",
     "text": [
      "<class 'pandas.core.frame.DataFrame'>\n",
      "Int64Index: 110526 entries, 0 to 110526\n",
      "Data columns (total 14 columns):\n",
      " #   Column          Non-Null Count   Dtype              \n",
      "---  ------          --------------   -----              \n",
      " 0   PatientId       110526 non-null  float64            \n",
      " 1   AppointmentID   110526 non-null  int64              \n",
      " 2   Gender          110526 non-null  object             \n",
      " 3   ScheduledDay    110526 non-null  datetime64[ns, UTC]\n",
      " 4   AppointmentDay  110526 non-null  datetime64[ns, UTC]\n",
      " 5   Age             110526 non-null  int64              \n",
      " 6   Neighbourhood   110526 non-null  object             \n",
      " 7   Scholarship     110526 non-null  int64              \n",
      " 8   Hipertension    110526 non-null  int64              \n",
      " 9   Diabetes        110526 non-null  int64              \n",
      " 10  Alcoholism      110526 non-null  int64              \n",
      " 11  Handcap         110526 non-null  int64              \n",
      " 12  SMS_received    110526 non-null  int64              \n",
      " 13  No-show         110526 non-null  object             \n",
      "dtypes: datetime64[ns, UTC](2), float64(1), int64(8), object(3)\n",
      "memory usage: 12.6+ MB\n"
     ]
    }
   ],
   "source": [
    "#check\n",
    "df.info()"
   ]
  },
  {
   "cell_type": "markdown",
   "id": "adapted-mathematics",
   "metadata": {},
   "source": [
    "## &nbsp;&nbsp;&nbsp;&nbsp; 2.3 Add 5 new columns to the dataframe that will help us in the analysis.\n"
   ]
  },
  {
   "cell_type": "code",
   "execution_count": 12,
   "id": "adverse-madrid",
   "metadata": {},
   "outputs": [],
   "source": [
    "#CODE\n",
    "df[\"Waiting_time\"] =  df[\"AppointmentDay\"]- df[\"ScheduledDay\"]\n",
    "df[\"appointment_day\"] = df[\"AppointmentDay\"].dt.day_name()\n",
    "df[\"appointment_month\"] = df[\"AppointmentDay\"].dt.month_name()\n",
    "df[\"Waiting_time_days\"] = df[\"Waiting_time\"].dt.days + df[\"Waiting_time\"].dt.seconds/(3600*24)\n",
    "df[\"appointment_daynum\"] = df[\"AppointmentDay\"].dt.day"
   ]
  },
  {
   "cell_type": "code",
   "execution_count": 13,
   "id": "assumed-understanding",
   "metadata": {
    "scrolled": true
   },
   "outputs": [
    {
     "data": {
      "text/html": [
       "<div>\n",
       "<style scoped>\n",
       "    .dataframe tbody tr th:only-of-type {\n",
       "        vertical-align: middle;\n",
       "    }\n",
       "\n",
       "    .dataframe tbody tr th {\n",
       "        vertical-align: top;\n",
       "    }\n",
       "\n",
       "    .dataframe thead th {\n",
       "        text-align: right;\n",
       "    }\n",
       "</style>\n",
       "<table border=\"1\" class=\"dataframe\">\n",
       "  <thead>\n",
       "    <tr style=\"text-align: right;\">\n",
       "      <th></th>\n",
       "      <th>PatientId</th>\n",
       "      <th>AppointmentID</th>\n",
       "      <th>Gender</th>\n",
       "      <th>ScheduledDay</th>\n",
       "      <th>AppointmentDay</th>\n",
       "      <th>Age</th>\n",
       "      <th>Neighbourhood</th>\n",
       "      <th>Scholarship</th>\n",
       "      <th>Hipertension</th>\n",
       "      <th>Diabetes</th>\n",
       "      <th>Alcoholism</th>\n",
       "      <th>Handcap</th>\n",
       "      <th>SMS_received</th>\n",
       "      <th>No-show</th>\n",
       "      <th>Waiting_time</th>\n",
       "      <th>appointment_day</th>\n",
       "      <th>appointment_month</th>\n",
       "      <th>Waiting_time_days</th>\n",
       "      <th>appointment_daynum</th>\n",
       "    </tr>\n",
       "  </thead>\n",
       "  <tbody>\n",
       "    <tr>\n",
       "      <th>15571</th>\n",
       "      <td>4.769683e+14</td>\n",
       "      <td>5524734</td>\n",
       "      <td>F</td>\n",
       "      <td>2016-03-30 08:08:52+00:00</td>\n",
       "      <td>2016-05-06 00:00:00+00:00</td>\n",
       "      <td>56</td>\n",
       "      <td>JESUS DE NAZARETH</td>\n",
       "      <td>0</td>\n",
       "      <td>0</td>\n",
       "      <td>0</td>\n",
       "      <td>0</td>\n",
       "      <td>0</td>\n",
       "      <td>1</td>\n",
       "      <td>No</td>\n",
       "      <td>36 days 15:51:08</td>\n",
       "      <td>Friday</td>\n",
       "      <td>May</td>\n",
       "      <td>36.660509</td>\n",
       "      <td>6</td>\n",
       "    </tr>\n",
       "    <tr>\n",
       "      <th>52228</th>\n",
       "      <td>8.132542e+14</td>\n",
       "      <td>5703050</td>\n",
       "      <td>F</td>\n",
       "      <td>2016-05-16 13:26:26+00:00</td>\n",
       "      <td>2016-05-18 00:00:00+00:00</td>\n",
       "      <td>55</td>\n",
       "      <td>JARDIM CAMBURI</td>\n",
       "      <td>0</td>\n",
       "      <td>0</td>\n",
       "      <td>0</td>\n",
       "      <td>0</td>\n",
       "      <td>0</td>\n",
       "      <td>0</td>\n",
       "      <td>No</td>\n",
       "      <td>1 days 10:33:34</td>\n",
       "      <td>Wednesday</td>\n",
       "      <td>May</td>\n",
       "      <td>1.439977</td>\n",
       "      <td>18</td>\n",
       "    </tr>\n",
       "    <tr>\n",
       "      <th>88747</th>\n",
       "      <td>7.316691e+13</td>\n",
       "      <td>5762769</td>\n",
       "      <td>M</td>\n",
       "      <td>2016-06-02 08:08:38+00:00</td>\n",
       "      <td>2016-06-02 00:00:00+00:00</td>\n",
       "      <td>48</td>\n",
       "      <td>ITARARÉ</td>\n",
       "      <td>0</td>\n",
       "      <td>0</td>\n",
       "      <td>0</td>\n",
       "      <td>0</td>\n",
       "      <td>0</td>\n",
       "      <td>0</td>\n",
       "      <td>No</td>\n",
       "      <td>-1 days +15:51:22</td>\n",
       "      <td>Thursday</td>\n",
       "      <td>June</td>\n",
       "      <td>-0.339329</td>\n",
       "      <td>2</td>\n",
       "    </tr>\n",
       "    <tr>\n",
       "      <th>35741</th>\n",
       "      <td>2.838332e+13</td>\n",
       "      <td>5712865</td>\n",
       "      <td>F</td>\n",
       "      <td>2016-05-18 09:24:44+00:00</td>\n",
       "      <td>2016-05-24 00:00:00+00:00</td>\n",
       "      <td>24</td>\n",
       "      <td>DA PENHA</td>\n",
       "      <td>0</td>\n",
       "      <td>0</td>\n",
       "      <td>0</td>\n",
       "      <td>0</td>\n",
       "      <td>0</td>\n",
       "      <td>0</td>\n",
       "      <td>No</td>\n",
       "      <td>5 days 14:35:16</td>\n",
       "      <td>Tuesday</td>\n",
       "      <td>May</td>\n",
       "      <td>5.607824</td>\n",
       "      <td>24</td>\n",
       "    </tr>\n",
       "    <tr>\n",
       "      <th>96572</th>\n",
       "      <td>4.677653e+11</td>\n",
       "      <td>5765734</td>\n",
       "      <td>F</td>\n",
       "      <td>2016-06-02 13:38:09+00:00</td>\n",
       "      <td>2016-06-02 00:00:00+00:00</td>\n",
       "      <td>30</td>\n",
       "      <td>JARDIM DA PENHA</td>\n",
       "      <td>0</td>\n",
       "      <td>0</td>\n",
       "      <td>0</td>\n",
       "      <td>0</td>\n",
       "      <td>0</td>\n",
       "      <td>0</td>\n",
       "      <td>No</td>\n",
       "      <td>-1 days +10:21:51</td>\n",
       "      <td>Thursday</td>\n",
       "      <td>June</td>\n",
       "      <td>-0.568160</td>\n",
       "      <td>2</td>\n",
       "    </tr>\n",
       "  </tbody>\n",
       "</table>\n",
       "</div>"
      ],
      "text/plain": [
       "          PatientId  AppointmentID Gender              ScheduledDay  \\\n",
       "15571  4.769683e+14        5524734      F 2016-03-30 08:08:52+00:00   \n",
       "52228  8.132542e+14        5703050      F 2016-05-16 13:26:26+00:00   \n",
       "88747  7.316691e+13        5762769      M 2016-06-02 08:08:38+00:00   \n",
       "35741  2.838332e+13        5712865      F 2016-05-18 09:24:44+00:00   \n",
       "96572  4.677653e+11        5765734      F 2016-06-02 13:38:09+00:00   \n",
       "\n",
       "                 AppointmentDay  Age      Neighbourhood  Scholarship  \\\n",
       "15571 2016-05-06 00:00:00+00:00   56  JESUS DE NAZARETH            0   \n",
       "52228 2016-05-18 00:00:00+00:00   55     JARDIM CAMBURI            0   \n",
       "88747 2016-06-02 00:00:00+00:00   48            ITARARÉ            0   \n",
       "35741 2016-05-24 00:00:00+00:00   24           DA PENHA            0   \n",
       "96572 2016-06-02 00:00:00+00:00   30    JARDIM DA PENHA            0   \n",
       "\n",
       "       Hipertension  Diabetes  Alcoholism  Handcap  SMS_received No-show  \\\n",
       "15571             0         0           0        0             1      No   \n",
       "52228             0         0           0        0             0      No   \n",
       "88747             0         0           0        0             0      No   \n",
       "35741             0         0           0        0             0      No   \n",
       "96572             0         0           0        0             0      No   \n",
       "\n",
       "           Waiting_time appointment_day appointment_month  Waiting_time_days  \\\n",
       "15571  36 days 15:51:08          Friday               May          36.660509   \n",
       "52228   1 days 10:33:34       Wednesday               May           1.439977   \n",
       "88747 -1 days +15:51:22        Thursday              June          -0.339329   \n",
       "35741   5 days 14:35:16         Tuesday               May           5.607824   \n",
       "96572 -1 days +10:21:51        Thursday              June          -0.568160   \n",
       "\n",
       "       appointment_daynum  \n",
       "15571                   6  \n",
       "52228                  18  \n",
       "88747                   2  \n",
       "35741                  24  \n",
       "96572                   2  "
      ]
     },
     "execution_count": 13,
     "metadata": {},
     "output_type": "execute_result"
    }
   ],
   "source": [
    "#check\n",
    "df.sample(5)"
   ]
  },
  {
   "cell_type": "markdown",
   "id": "cubic-aquarium",
   "metadata": {},
   "source": [
    "## &nbsp;&nbsp;&nbsp;&nbsp; 2.4 Another quality issue appeared\n",
    "### Negative values in (Waiting_time) column where \"ScheduledDay\" is after \"AppointmentDay\""
   ]
  },
  {
   "cell_type": "code",
   "execution_count": 14,
   "id": "valuable-smooth",
   "metadata": {},
   "outputs": [
    {
     "data": {
      "text/plain": [
       "-7 days +10:10:40    1\n",
       "-2 days +09:09:19    1\n",
       "-2 days +10:16:02    1\n",
       "-2 days +13:08:07    1\n",
       "-2 days +17:09:03    1\n",
       "                    ..\n",
       "178 days 13:16:26    1\n",
       "178 days 13:16:43    1\n",
       "178 days 13:16:59    1\n",
       "178 days 13:17:18    1\n",
       "178 days 13:19:01    1\n",
       "Name: Waiting_time, Length: 89711, dtype: int64"
      ]
     },
     "execution_count": 14,
     "metadata": {},
     "output_type": "execute_result"
    }
   ],
   "source": [
    "#check\n",
    "df[\"Waiting_time\"].value_counts().sort_index()"
   ]
  },
  {
   "cell_type": "code",
   "execution_count": 15,
   "id": "alone-peace",
   "metadata": {},
   "outputs": [],
   "source": [
    "#CODE\n",
    "# slicing only right values\n",
    "df = df[df[\"ScheduledDay\"]< df[\"AppointmentDay\"]]"
   ]
  },
  {
   "cell_type": "code",
   "execution_count": 16,
   "id": "seeing-thunder",
   "metadata": {},
   "outputs": [
    {
     "data": {
      "text/plain": [
       "0 days 03:16:20      1\n",
       "0 days 03:19:13      1\n",
       "0 days 03:36:54      1\n",
       "0 days 03:37:24      1\n",
       "0 days 03:39:51      1\n",
       "                    ..\n",
       "178 days 13:16:26    1\n",
       "178 days 13:16:43    1\n",
       "178 days 13:16:59    1\n",
       "178 days 13:17:18    1\n",
       "178 days 13:19:01    1\n",
       "Name: Waiting_time, Length: 67588, dtype: int64"
      ]
     },
     "execution_count": 16,
     "metadata": {},
     "output_type": "execute_result"
    }
   ],
   "source": [
    "#check\n",
    "df[\"Waiting_time\"].value_counts().sort_index()"
   ]
  },
  {
   "cell_type": "code",
   "execution_count": 17,
   "id": "divided-pasta",
   "metadata": {},
   "outputs": [
    {
     "data": {
      "text/plain": [
       "0.136343      1\n",
       "0.138345      1\n",
       "0.150625      1\n",
       "0.150972      1\n",
       "0.152674      1\n",
       "             ..\n",
       "178.553079    1\n",
       "178.553275    1\n",
       "178.553461    1\n",
       "178.553681    1\n",
       "178.554873    1\n",
       "Name: Waiting_time_days, Length: 67588, dtype: int64"
      ]
     },
     "execution_count": 17,
     "metadata": {},
     "output_type": "execute_result"
    }
   ],
   "source": [
    "df[\"Waiting_time_days\"].value_counts().sort_index()"
   ]
  },
  {
   "cell_type": "markdown",
   "id": "loaded-visit",
   "metadata": {},
   "source": [
    "## &nbsp;&nbsp;&nbsp;&nbsp; 2.5 Rename wrong column’s name."
   ]
  },
  {
   "cell_type": "code",
   "execution_count": 18,
   "id": "addressed-effects",
   "metadata": {},
   "outputs": [],
   "source": [
    "#CODE\n",
    "df.rename(columns = {\"Handcap\":\"Handicap\"},inplace = True)"
   ]
  },
  {
   "cell_type": "code",
   "execution_count": 19,
   "id": "simple-drawing",
   "metadata": {},
   "outputs": [
    {
     "data": {
      "text/html": [
       "<div>\n",
       "<style scoped>\n",
       "    .dataframe tbody tr th:only-of-type {\n",
       "        vertical-align: middle;\n",
       "    }\n",
       "\n",
       "    .dataframe tbody tr th {\n",
       "        vertical-align: top;\n",
       "    }\n",
       "\n",
       "    .dataframe thead th {\n",
       "        text-align: right;\n",
       "    }\n",
       "</style>\n",
       "<table border=\"1\" class=\"dataframe\">\n",
       "  <thead>\n",
       "    <tr style=\"text-align: right;\">\n",
       "      <th></th>\n",
       "      <th>PatientId</th>\n",
       "      <th>AppointmentID</th>\n",
       "      <th>Gender</th>\n",
       "      <th>ScheduledDay</th>\n",
       "      <th>AppointmentDay</th>\n",
       "      <th>Age</th>\n",
       "      <th>Neighbourhood</th>\n",
       "      <th>Scholarship</th>\n",
       "      <th>Hipertension</th>\n",
       "      <th>Diabetes</th>\n",
       "      <th>Alcoholism</th>\n",
       "      <th>Handicap</th>\n",
       "      <th>SMS_received</th>\n",
       "      <th>No-show</th>\n",
       "      <th>Waiting_time</th>\n",
       "      <th>appointment_day</th>\n",
       "      <th>appointment_month</th>\n",
       "      <th>Waiting_time_days</th>\n",
       "      <th>appointment_daynum</th>\n",
       "    </tr>\n",
       "  </thead>\n",
       "  <tbody>\n",
       "    <tr>\n",
       "      <th>5</th>\n",
       "      <td>9.598513e+13</td>\n",
       "      <td>5626772</td>\n",
       "      <td>F</td>\n",
       "      <td>2016-04-27 08:36:51+00:00</td>\n",
       "      <td>2016-04-29 00:00:00+00:00</td>\n",
       "      <td>76</td>\n",
       "      <td>REPÚBLICA</td>\n",
       "      <td>0</td>\n",
       "      <td>1</td>\n",
       "      <td>0</td>\n",
       "      <td>0</td>\n",
       "      <td>0</td>\n",
       "      <td>0</td>\n",
       "      <td>No</td>\n",
       "      <td>1 days 15:23:09</td>\n",
       "      <td>Friday</td>\n",
       "      <td>April</td>\n",
       "      <td>1.641076</td>\n",
       "      <td>29</td>\n",
       "    </tr>\n",
       "  </tbody>\n",
       "</table>\n",
       "</div>"
      ],
      "text/plain": [
       "      PatientId  AppointmentID Gender              ScheduledDay  \\\n",
       "5  9.598513e+13        5626772      F 2016-04-27 08:36:51+00:00   \n",
       "\n",
       "             AppointmentDay  Age Neighbourhood  Scholarship  Hipertension  \\\n",
       "5 2016-04-29 00:00:00+00:00   76     REPÚBLICA            0             1   \n",
       "\n",
       "   Diabetes  Alcoholism  Handicap  SMS_received No-show    Waiting_time  \\\n",
       "5         0           0         0             0      No 1 days 15:23:09   \n",
       "\n",
       "  appointment_day appointment_month  Waiting_time_days  appointment_daynum  \n",
       "5          Friday             April           1.641076                  29  "
      ]
     },
     "execution_count": 19,
     "metadata": {},
     "output_type": "execute_result"
    }
   ],
   "source": [
    "#check\n",
    "df.head(1)"
   ]
  },
  {
   "cell_type": "markdown",
   "id": "accepted-parish",
   "metadata": {},
   "source": [
    "## &nbsp;&nbsp;&nbsp;&nbsp; 2.6 Reset index"
   ]
  },
  {
   "cell_type": "code",
   "execution_count": 20,
   "id": "million-huntington",
   "metadata": {},
   "outputs": [],
   "source": [
    "#code\n",
    "df = df.reset_index(drop = True)"
   ]
  },
  {
   "cell_type": "code",
   "execution_count": 21,
   "id": "valued-secondary",
   "metadata": {},
   "outputs": [
    {
     "data": {
      "text/html": [
       "<div>\n",
       "<style scoped>\n",
       "    .dataframe tbody tr th:only-of-type {\n",
       "        vertical-align: middle;\n",
       "    }\n",
       "\n",
       "    .dataframe tbody tr th {\n",
       "        vertical-align: top;\n",
       "    }\n",
       "\n",
       "    .dataframe thead th {\n",
       "        text-align: right;\n",
       "    }\n",
       "</style>\n",
       "<table border=\"1\" class=\"dataframe\">\n",
       "  <thead>\n",
       "    <tr style=\"text-align: right;\">\n",
       "      <th></th>\n",
       "      <th>PatientId</th>\n",
       "      <th>AppointmentID</th>\n",
       "      <th>Gender</th>\n",
       "      <th>ScheduledDay</th>\n",
       "      <th>AppointmentDay</th>\n",
       "      <th>Age</th>\n",
       "      <th>Neighbourhood</th>\n",
       "      <th>Scholarship</th>\n",
       "      <th>Hipertension</th>\n",
       "      <th>Diabetes</th>\n",
       "      <th>Alcoholism</th>\n",
       "      <th>Handicap</th>\n",
       "      <th>SMS_received</th>\n",
       "      <th>No-show</th>\n",
       "      <th>Waiting_time</th>\n",
       "      <th>appointment_day</th>\n",
       "      <th>appointment_month</th>\n",
       "      <th>Waiting_time_days</th>\n",
       "      <th>appointment_daynum</th>\n",
       "    </tr>\n",
       "  </thead>\n",
       "  <tbody>\n",
       "    <tr>\n",
       "      <th>0</th>\n",
       "      <td>9.598513e+13</td>\n",
       "      <td>5626772</td>\n",
       "      <td>F</td>\n",
       "      <td>2016-04-27 08:36:51+00:00</td>\n",
       "      <td>2016-04-29 00:00:00+00:00</td>\n",
       "      <td>76</td>\n",
       "      <td>REPÚBLICA</td>\n",
       "      <td>0</td>\n",
       "      <td>1</td>\n",
       "      <td>0</td>\n",
       "      <td>0</td>\n",
       "      <td>0</td>\n",
       "      <td>0</td>\n",
       "      <td>No</td>\n",
       "      <td>1 days 15:23:09</td>\n",
       "      <td>Friday</td>\n",
       "      <td>April</td>\n",
       "      <td>1.641076</td>\n",
       "      <td>29</td>\n",
       "    </tr>\n",
       "    <tr>\n",
       "      <th>1</th>\n",
       "      <td>7.336882e+14</td>\n",
       "      <td>5630279</td>\n",
       "      <td>F</td>\n",
       "      <td>2016-04-27 15:05:12+00:00</td>\n",
       "      <td>2016-04-29 00:00:00+00:00</td>\n",
       "      <td>23</td>\n",
       "      <td>GOIABEIRAS</td>\n",
       "      <td>0</td>\n",
       "      <td>0</td>\n",
       "      <td>0</td>\n",
       "      <td>0</td>\n",
       "      <td>0</td>\n",
       "      <td>0</td>\n",
       "      <td>Yes</td>\n",
       "      <td>1 days 08:54:48</td>\n",
       "      <td>Friday</td>\n",
       "      <td>April</td>\n",
       "      <td>1.371389</td>\n",
       "      <td>29</td>\n",
       "    </tr>\n",
       "    <tr>\n",
       "      <th>2</th>\n",
       "      <td>3.449833e+12</td>\n",
       "      <td>5630575</td>\n",
       "      <td>F</td>\n",
       "      <td>2016-04-27 15:39:58+00:00</td>\n",
       "      <td>2016-04-29 00:00:00+00:00</td>\n",
       "      <td>39</td>\n",
       "      <td>GOIABEIRAS</td>\n",
       "      <td>0</td>\n",
       "      <td>0</td>\n",
       "      <td>0</td>\n",
       "      <td>0</td>\n",
       "      <td>0</td>\n",
       "      <td>0</td>\n",
       "      <td>Yes</td>\n",
       "      <td>1 days 08:20:02</td>\n",
       "      <td>Friday</td>\n",
       "      <td>April</td>\n",
       "      <td>1.347245</td>\n",
       "      <td>29</td>\n",
       "    </tr>\n",
       "    <tr>\n",
       "      <th>3</th>\n",
       "      <td>7.812456e+13</td>\n",
       "      <td>5629123</td>\n",
       "      <td>F</td>\n",
       "      <td>2016-04-27 12:48:25+00:00</td>\n",
       "      <td>2016-04-29 00:00:00+00:00</td>\n",
       "      <td>19</td>\n",
       "      <td>CONQUISTA</td>\n",
       "      <td>0</td>\n",
       "      <td>0</td>\n",
       "      <td>0</td>\n",
       "      <td>0</td>\n",
       "      <td>0</td>\n",
       "      <td>0</td>\n",
       "      <td>No</td>\n",
       "      <td>1 days 11:11:35</td>\n",
       "      <td>Friday</td>\n",
       "      <td>April</td>\n",
       "      <td>1.466377</td>\n",
       "      <td>29</td>\n",
       "    </tr>\n",
       "    <tr>\n",
       "      <th>4</th>\n",
       "      <td>7.345362e+14</td>\n",
       "      <td>5630213</td>\n",
       "      <td>F</td>\n",
       "      <td>2016-04-27 14:58:11+00:00</td>\n",
       "      <td>2016-04-29 00:00:00+00:00</td>\n",
       "      <td>30</td>\n",
       "      <td>NOVA PALESTINA</td>\n",
       "      <td>0</td>\n",
       "      <td>0</td>\n",
       "      <td>0</td>\n",
       "      <td>0</td>\n",
       "      <td>0</td>\n",
       "      <td>0</td>\n",
       "      <td>No</td>\n",
       "      <td>1 days 09:01:49</td>\n",
       "      <td>Friday</td>\n",
       "      <td>April</td>\n",
       "      <td>1.376262</td>\n",
       "      <td>29</td>\n",
       "    </tr>\n",
       "  </tbody>\n",
       "</table>\n",
       "</div>"
      ],
      "text/plain": [
       "      PatientId  AppointmentID Gender              ScheduledDay  \\\n",
       "0  9.598513e+13        5626772      F 2016-04-27 08:36:51+00:00   \n",
       "1  7.336882e+14        5630279      F 2016-04-27 15:05:12+00:00   \n",
       "2  3.449833e+12        5630575      F 2016-04-27 15:39:58+00:00   \n",
       "3  7.812456e+13        5629123      F 2016-04-27 12:48:25+00:00   \n",
       "4  7.345362e+14        5630213      F 2016-04-27 14:58:11+00:00   \n",
       "\n",
       "             AppointmentDay  Age   Neighbourhood  Scholarship  Hipertension  \\\n",
       "0 2016-04-29 00:00:00+00:00   76       REPÚBLICA            0             1   \n",
       "1 2016-04-29 00:00:00+00:00   23      GOIABEIRAS            0             0   \n",
       "2 2016-04-29 00:00:00+00:00   39      GOIABEIRAS            0             0   \n",
       "3 2016-04-29 00:00:00+00:00   19       CONQUISTA            0             0   \n",
       "4 2016-04-29 00:00:00+00:00   30  NOVA PALESTINA            0             0   \n",
       "\n",
       "   Diabetes  Alcoholism  Handicap  SMS_received No-show    Waiting_time  \\\n",
       "0         0           0         0             0      No 1 days 15:23:09   \n",
       "1         0           0         0             0     Yes 1 days 08:54:48   \n",
       "2         0           0         0             0     Yes 1 days 08:20:02   \n",
       "3         0           0         0             0      No 1 days 11:11:35   \n",
       "4         0           0         0             0      No 1 days 09:01:49   \n",
       "\n",
       "  appointment_day appointment_month  Waiting_time_days  appointment_daynum  \n",
       "0          Friday             April           1.641076                  29  \n",
       "1          Friday             April           1.371389                  29  \n",
       "2          Friday             April           1.347245                  29  \n",
       "3          Friday             April           1.466377                  29  \n",
       "4          Friday             April           1.376262                  29  "
      ]
     },
     "execution_count": 21,
     "metadata": {},
     "output_type": "execute_result"
    }
   ],
   "source": [
    "#check\n",
    "df.head()"
   ]
  },
  {
   "cell_type": "markdown",
   "id": "characteristic-prison",
   "metadata": {},
   "source": [
    "### &nbsp;&nbsp;&nbsp;&nbsp; 2.7 Create show and noshow dataframes"
   ]
  },
  {
   "cell_type": "code",
   "execution_count": 22,
   "id": "athletic-confusion",
   "metadata": {},
   "outputs": [],
   "source": [
    "show_df = df[df[\"No-show\"] == \"No\"]\n",
    "noshow_df = df[df[\"No-show\"] == \"Yes\"]"
   ]
  },
  {
   "cell_type": "markdown",
   "id": "organizational-shadow",
   "metadata": {},
   "source": [
    "# 3. Analyzing Data and Visualization"
   ]
  },
  {
   "cell_type": "markdown",
   "id": "characteristic-functionality",
   "metadata": {},
   "source": [
    "## Research Question 1 \n",
    "###  What are the insights that we can conclude from data of people with chronic diseases like Hipertension and  Diabetes?"
   ]
  },
  {
   "cell_type": "code",
   "execution_count": 23,
   "id": "united-static",
   "metadata": {},
   "outputs": [
    {
     "data": {
      "text/html": [
       "<div>\n",
       "<style scoped>\n",
       "    .dataframe tbody tr th:only-of-type {\n",
       "        vertical-align: middle;\n",
       "    }\n",
       "\n",
       "    .dataframe tbody tr th {\n",
       "        vertical-align: top;\n",
       "    }\n",
       "\n",
       "    .dataframe thead th {\n",
       "        text-align: right;\n",
       "    }\n",
       "</style>\n",
       "<table border=\"1\" class=\"dataframe\">\n",
       "  <thead>\n",
       "    <tr style=\"text-align: right;\">\n",
       "      <th></th>\n",
       "      <th>PatientId</th>\n",
       "      <th>AppointmentID</th>\n",
       "      <th>Gender</th>\n",
       "      <th>ScheduledDay</th>\n",
       "      <th>AppointmentDay</th>\n",
       "      <th>Age</th>\n",
       "      <th>Neighbourhood</th>\n",
       "      <th>Scholarship</th>\n",
       "      <th>Hipertension</th>\n",
       "      <th>Diabetes</th>\n",
       "      <th>Alcoholism</th>\n",
       "      <th>Handicap</th>\n",
       "      <th>SMS_received</th>\n",
       "      <th>No-show</th>\n",
       "      <th>Waiting_time</th>\n",
       "      <th>appointment_day</th>\n",
       "      <th>appointment_month</th>\n",
       "      <th>Waiting_time_days</th>\n",
       "      <th>appointment_daynum</th>\n",
       "    </tr>\n",
       "  </thead>\n",
       "  <tbody>\n",
       "    <tr>\n",
       "      <th>0</th>\n",
       "      <td>9.598513e+13</td>\n",
       "      <td>5626772</td>\n",
       "      <td>F</td>\n",
       "      <td>2016-04-27 08:36:51+00:00</td>\n",
       "      <td>2016-04-29 00:00:00+00:00</td>\n",
       "      <td>76</td>\n",
       "      <td>REPÚBLICA</td>\n",
       "      <td>0</td>\n",
       "      <td>1</td>\n",
       "      <td>0</td>\n",
       "      <td>0</td>\n",
       "      <td>0</td>\n",
       "      <td>0</td>\n",
       "      <td>No</td>\n",
       "      <td>1 days 15:23:09</td>\n",
       "      <td>Friday</td>\n",
       "      <td>April</td>\n",
       "      <td>1.641076</td>\n",
       "      <td>29</td>\n",
       "    </tr>\n",
       "    <tr>\n",
       "      <th>17</th>\n",
       "      <td>5.819370e+12</td>\n",
       "      <td>5624020</td>\n",
       "      <td>M</td>\n",
       "      <td>2016-04-26 15:04:17+00:00</td>\n",
       "      <td>2016-04-29 00:00:00+00:00</td>\n",
       "      <td>46</td>\n",
       "      <td>CONQUISTA</td>\n",
       "      <td>0</td>\n",
       "      <td>1</td>\n",
       "      <td>0</td>\n",
       "      <td>0</td>\n",
       "      <td>0</td>\n",
       "      <td>1</td>\n",
       "      <td>No</td>\n",
       "      <td>2 days 08:55:43</td>\n",
       "      <td>Friday</td>\n",
       "      <td>April</td>\n",
       "      <td>2.372025</td>\n",
       "      <td>29</td>\n",
       "    </tr>\n",
       "    <tr>\n",
       "      <th>22</th>\n",
       "      <td>5.873316e+12</td>\n",
       "      <td>5609446</td>\n",
       "      <td>M</td>\n",
       "      <td>2016-04-20 15:54:18+00:00</td>\n",
       "      <td>2016-04-29 00:00:00+00:00</td>\n",
       "      <td>85</td>\n",
       "      <td>SÃO CRISTÓVÃO</td>\n",
       "      <td>0</td>\n",
       "      <td>1</td>\n",
       "      <td>0</td>\n",
       "      <td>0</td>\n",
       "      <td>0</td>\n",
       "      <td>1</td>\n",
       "      <td>No</td>\n",
       "      <td>8 days 08:05:42</td>\n",
       "      <td>Friday</td>\n",
       "      <td>April</td>\n",
       "      <td>8.337292</td>\n",
       "      <td>29</td>\n",
       "    </tr>\n",
       "    <tr>\n",
       "      <th>24</th>\n",
       "      <td>8.224325e+14</td>\n",
       "      <td>5633339</td>\n",
       "      <td>F</td>\n",
       "      <td>2016-04-28 09:20:36+00:00</td>\n",
       "      <td>2016-04-29 00:00:00+00:00</td>\n",
       "      <td>71</td>\n",
       "      <td>MARUÍPE</td>\n",
       "      <td>0</td>\n",
       "      <td>0</td>\n",
       "      <td>1</td>\n",
       "      <td>0</td>\n",
       "      <td>0</td>\n",
       "      <td>0</td>\n",
       "      <td>No</td>\n",
       "      <td>0 days 14:39:24</td>\n",
       "      <td>Friday</td>\n",
       "      <td>April</td>\n",
       "      <td>0.610694</td>\n",
       "      <td>29</td>\n",
       "    </tr>\n",
       "    <tr>\n",
       "      <th>26</th>\n",
       "      <td>2.741649e+11</td>\n",
       "      <td>5635414</td>\n",
       "      <td>F</td>\n",
       "      <td>2016-04-28 13:27:27+00:00</td>\n",
       "      <td>2016-04-29 00:00:00+00:00</td>\n",
       "      <td>78</td>\n",
       "      <td>SÃO CRISTÓVÃO</td>\n",
       "      <td>0</td>\n",
       "      <td>1</td>\n",
       "      <td>1</td>\n",
       "      <td>0</td>\n",
       "      <td>0</td>\n",
       "      <td>0</td>\n",
       "      <td>Yes</td>\n",
       "      <td>0 days 10:32:33</td>\n",
       "      <td>Friday</td>\n",
       "      <td>April</td>\n",
       "      <td>0.439271</td>\n",
       "      <td>29</td>\n",
       "    </tr>\n",
       "  </tbody>\n",
       "</table>\n",
       "</div>"
      ],
      "text/plain": [
       "       PatientId  AppointmentID Gender              ScheduledDay  \\\n",
       "0   9.598513e+13        5626772      F 2016-04-27 08:36:51+00:00   \n",
       "17  5.819370e+12        5624020      M 2016-04-26 15:04:17+00:00   \n",
       "22  5.873316e+12        5609446      M 2016-04-20 15:54:18+00:00   \n",
       "24  8.224325e+14        5633339      F 2016-04-28 09:20:36+00:00   \n",
       "26  2.741649e+11        5635414      F 2016-04-28 13:27:27+00:00   \n",
       "\n",
       "              AppointmentDay  Age  Neighbourhood  Scholarship  Hipertension  \\\n",
       "0  2016-04-29 00:00:00+00:00   76      REPÚBLICA            0             1   \n",
       "17 2016-04-29 00:00:00+00:00   46      CONQUISTA            0             1   \n",
       "22 2016-04-29 00:00:00+00:00   85  SÃO CRISTÓVÃO            0             1   \n",
       "24 2016-04-29 00:00:00+00:00   71        MARUÍPE            0             0   \n",
       "26 2016-04-29 00:00:00+00:00   78  SÃO CRISTÓVÃO            0             1   \n",
       "\n",
       "    Diabetes  Alcoholism  Handicap  SMS_received No-show    Waiting_time  \\\n",
       "0          0           0         0             0      No 1 days 15:23:09   \n",
       "17         0           0         0             1      No 2 days 08:55:43   \n",
       "22         0           0         0             1      No 8 days 08:05:42   \n",
       "24         1           0         0             0      No 0 days 14:39:24   \n",
       "26         1           0         0             0     Yes 0 days 10:32:33   \n",
       "\n",
       "   appointment_day appointment_month  Waiting_time_days  appointment_daynum  \n",
       "0           Friday             April           1.641076                  29  \n",
       "17          Friday             April           2.372025                  29  \n",
       "22          Friday             April           8.337292                  29  \n",
       "24          Friday             April           0.610694                  29  \n",
       "26          Friday             April           0.439271                  29  "
      ]
     },
     "execution_count": 23,
     "metadata": {},
     "output_type": "execute_result"
    }
   ],
   "source": [
    "#create a dataframe that only contains people with chronic diseases[Diabetes or Hipertension or Both]\n",
    "chronic_df = df[(df[\"Diabetes\"]==1)|(df[\"Hipertension\"]==1)]\n",
    "chronic_df.head()"
   ]
  },
  {
   "cell_type": "markdown",
   "id": "driven-board",
   "metadata": {},
   "source": [
    "# 1.1 Which chronic disease is more common?"
   ]
  },
  {
   "cell_type": "code",
   "execution_count": 24,
   "id": "different-juice",
   "metadata": {},
   "outputs": [
    {
     "data": {
      "text/html": [
       "<div>\n",
       "<style scoped>\n",
       "    .dataframe tbody tr th:only-of-type {\n",
       "        vertical-align: middle;\n",
       "    }\n",
       "\n",
       "    .dataframe tbody tr th {\n",
       "        vertical-align: top;\n",
       "    }\n",
       "\n",
       "    .dataframe thead th {\n",
       "        text-align: right;\n",
       "    }\n",
       "</style>\n",
       "<table border=\"1\" class=\"dataframe\">\n",
       "  <thead>\n",
       "    <tr style=\"text-align: right;\">\n",
       "      <th></th>\n",
       "      <th>count</th>\n",
       "      <th>mean</th>\n",
       "      <th>std</th>\n",
       "      <th>min</th>\n",
       "      <th>25%</th>\n",
       "      <th>50%</th>\n",
       "      <th>75%</th>\n",
       "      <th>max</th>\n",
       "    </tr>\n",
       "    <tr>\n",
       "      <th>Hipertension</th>\n",
       "      <th></th>\n",
       "      <th></th>\n",
       "      <th></th>\n",
       "      <th></th>\n",
       "      <th></th>\n",
       "      <th></th>\n",
       "      <th></th>\n",
       "      <th></th>\n",
       "    </tr>\n",
       "  </thead>\n",
       "  <tbody>\n",
       "    <tr>\n",
       "      <th>0</th>\n",
       "      <td>56927.0</td>\n",
       "      <td>32.603492</td>\n",
       "      <td>21.163359</td>\n",
       "      <td>0.0</td>\n",
       "      <td>15.0</td>\n",
       "      <td>31.0</td>\n",
       "      <td>49.0</td>\n",
       "      <td>115.0</td>\n",
       "    </tr>\n",
       "    <tr>\n",
       "      <th>1</th>\n",
       "      <td>15032.0</td>\n",
       "      <td>60.842669</td>\n",
       "      <td>13.744876</td>\n",
       "      <td>4.0</td>\n",
       "      <td>52.0</td>\n",
       "      <td>61.0</td>\n",
       "      <td>70.0</td>\n",
       "      <td>115.0</td>\n",
       "    </tr>\n",
       "  </tbody>\n",
       "</table>\n",
       "</div>"
      ],
      "text/plain": [
       "                count       mean        std  min   25%   50%   75%    max\n",
       "Hipertension                                                             \n",
       "0             56927.0  32.603492  21.163359  0.0  15.0  31.0  49.0  115.0\n",
       "1             15032.0  60.842669  13.744876  4.0  52.0  61.0  70.0  115.0"
      ]
     },
     "execution_count": 24,
     "metadata": {},
     "output_type": "execute_result"
    }
   ],
   "source": [
    "Hipertension_details = df.groupby([\"Hipertension\"]).describe()\n",
    "Hipertension_details[\"Age\"]"
   ]
  },
  {
   "cell_type": "code",
   "execution_count": 25,
   "id": "patient-rugby",
   "metadata": {},
   "outputs": [
    {
     "data": {
      "text/html": [
       "<div>\n",
       "<style scoped>\n",
       "    .dataframe tbody tr th:only-of-type {\n",
       "        vertical-align: middle;\n",
       "    }\n",
       "\n",
       "    .dataframe tbody tr th {\n",
       "        vertical-align: top;\n",
       "    }\n",
       "\n",
       "    .dataframe thead th {\n",
       "        text-align: right;\n",
       "    }\n",
       "</style>\n",
       "<table border=\"1\" class=\"dataframe\">\n",
       "  <thead>\n",
       "    <tr style=\"text-align: right;\">\n",
       "      <th></th>\n",
       "      <th>count</th>\n",
       "      <th>mean</th>\n",
       "      <th>std</th>\n",
       "      <th>min</th>\n",
       "      <th>25%</th>\n",
       "      <th>50%</th>\n",
       "      <th>75%</th>\n",
       "      <th>max</th>\n",
       "    </tr>\n",
       "    <tr>\n",
       "      <th>Diabetes</th>\n",
       "      <th></th>\n",
       "      <th></th>\n",
       "      <th></th>\n",
       "      <th></th>\n",
       "      <th></th>\n",
       "      <th></th>\n",
       "      <th></th>\n",
       "      <th></th>\n",
       "    </tr>\n",
       "  </thead>\n",
       "  <tbody>\n",
       "    <tr>\n",
       "      <th>0</th>\n",
       "      <td>66582.0</td>\n",
       "      <td>36.649230</td>\n",
       "      <td>22.525341</td>\n",
       "      <td>0.0</td>\n",
       "      <td>18.0</td>\n",
       "      <td>36.0</td>\n",
       "      <td>54.0</td>\n",
       "      <td>115.0</td>\n",
       "    </tr>\n",
       "    <tr>\n",
       "      <th>1</th>\n",
       "      <td>5377.0</td>\n",
       "      <td>61.451925</td>\n",
       "      <td>13.474650</td>\n",
       "      <td>1.0</td>\n",
       "      <td>53.0</td>\n",
       "      <td>62.0</td>\n",
       "      <td>70.0</td>\n",
       "      <td>98.0</td>\n",
       "    </tr>\n",
       "  </tbody>\n",
       "</table>\n",
       "</div>"
      ],
      "text/plain": [
       "            count       mean        std  min   25%   50%   75%    max\n",
       "Diabetes                                                             \n",
       "0         66582.0  36.649230  22.525341  0.0  18.0  36.0  54.0  115.0\n",
       "1          5377.0  61.451925  13.474650  1.0  53.0  62.0  70.0   98.0"
      ]
     },
     "execution_count": 25,
     "metadata": {},
     "output_type": "execute_result"
    }
   ],
   "source": [
    "Diabetes_details = df.groupby([\"Diabetes\"]).describe()\n",
    "Diabetes_details[\"Age\"]"
   ]
  },
  {
   "cell_type": "code",
   "execution_count": 26,
   "id": "suffering-arabic",
   "metadata": {},
   "outputs": [
    {
     "data": {
      "image/png": "[encoded data removed]",
      "text/plain": [
       "<Figure size 576x360 with 1 Axes>"
      ]
     },
     "metadata": {
      "needs_background": "light"
     },
     "output_type": "display_data"
    }
   ],
   "source": [
    "percentage = [len(df[df[\"Diabetes\"] ==1])*100/len(df),len(df[df[\"Hipertension\"] ==1])*100/len(df)]\n",
    "x = np.arange(2)\n",
    "fig, ax = plt.subplots(figsize = (8,5))\n",
    "plt.bar(x,percentage,width = 0.2,color = [\"b\",\"r\"])\n",
    "plt.xticks(x, [\"Diabetes\",'Hipertension'])\n",
    "plt.text(x[0]-.05,percentage[0]+.2,str(percentage[0])[:5]+\"%\",fontweight ='bold')\n",
    "plt.text(x[1]-.05,percentage[1]+.2,str(percentage[1])[:5]+\"%\",fontweight ='bold')\n",
    "plt.title(\"Disease Percent\")\n",
    "plt.xlabel(\"Disease\")\n",
    "plt.ylabel(\"Percent of people having this disease\");"
   ]
  },
  {
   "cell_type": "markdown",
   "id": "broad-russia",
   "metadata": {},
   "source": [
    "# So:\n",
    "## Hipertension is more Prevalent than Diabetes"
   ]
  },
  {
   "cell_type": "markdown",
   "id": "inner-grammar",
   "metadata": {},
   "source": [
    "# 1.2 What is the effect of Alcoholism on having chronic disease?"
   ]
  },
  {
   "cell_type": "code",
   "execution_count": 27,
   "id": "moved-litigation",
   "metadata": {},
   "outputs": [
    {
     "data": {
      "text/html": [
       "<div>\n",
       "<style scoped>\n",
       "    .dataframe tbody tr th:only-of-type {\n",
       "        vertical-align: middle;\n",
       "    }\n",
       "\n",
       "    .dataframe tbody tr th {\n",
       "        vertical-align: top;\n",
       "    }\n",
       "\n",
       "    .dataframe thead th {\n",
       "        text-align: right;\n",
       "    }\n",
       "</style>\n",
       "<table border=\"1\" class=\"dataframe\">\n",
       "  <thead>\n",
       "    <tr style=\"text-align: right;\">\n",
       "      <th></th>\n",
       "      <th></th>\n",
       "      <th>count</th>\n",
       "      <th>mean</th>\n",
       "      <th>std</th>\n",
       "      <th>min</th>\n",
       "      <th>25%</th>\n",
       "      <th>50%</th>\n",
       "      <th>75%</th>\n",
       "      <th>max</th>\n",
       "    </tr>\n",
       "    <tr>\n",
       "      <th>Alcoholism</th>\n",
       "      <th>Hipertension</th>\n",
       "      <th></th>\n",
       "      <th></th>\n",
       "      <th></th>\n",
       "      <th></th>\n",
       "      <th></th>\n",
       "      <th></th>\n",
       "      <th></th>\n",
       "      <th></th>\n",
       "    </tr>\n",
       "  </thead>\n",
       "  <tbody>\n",
       "    <tr>\n",
       "      <th rowspan=\"2\" valign=\"top\">0</th>\n",
       "      <th>0</th>\n",
       "      <td>55880.0</td>\n",
       "      <td>32.370025</td>\n",
       "      <td>21.216680</td>\n",
       "      <td>0.0</td>\n",
       "      <td>15.0</td>\n",
       "      <td>31.0</td>\n",
       "      <td>49.0</td>\n",
       "      <td>115.0</td>\n",
       "    </tr>\n",
       "    <tr>\n",
       "      <th>1</th>\n",
       "      <td>14257.0</td>\n",
       "      <td>61.078347</td>\n",
       "      <td>13.876518</td>\n",
       "      <td>4.0</td>\n",
       "      <td>52.0</td>\n",
       "      <td>61.0</td>\n",
       "      <td>70.0</td>\n",
       "      <td>115.0</td>\n",
       "    </tr>\n",
       "    <tr>\n",
       "      <th rowspan=\"2\" valign=\"top\">1</th>\n",
       "      <th>0</th>\n",
       "      <td>1047.0</td>\n",
       "      <td>45.063992</td>\n",
       "      <td>13.010538</td>\n",
       "      <td>4.0</td>\n",
       "      <td>36.0</td>\n",
       "      <td>46.0</td>\n",
       "      <td>54.0</td>\n",
       "      <td>81.0</td>\n",
       "    </tr>\n",
       "    <tr>\n",
       "      <th>1</th>\n",
       "      <td>775.0</td>\n",
       "      <td>56.507097</td>\n",
       "      <td>10.116742</td>\n",
       "      <td>26.0</td>\n",
       "      <td>50.0</td>\n",
       "      <td>57.0</td>\n",
       "      <td>63.0</td>\n",
       "      <td>85.0</td>\n",
       "    </tr>\n",
       "  </tbody>\n",
       "</table>\n",
       "</div>"
      ],
      "text/plain": [
       "                           count       mean        std   min   25%   50%  \\\n",
       "Alcoholism Hipertension                                                    \n",
       "0          0             55880.0  32.370025  21.216680   0.0  15.0  31.0   \n",
       "           1             14257.0  61.078347  13.876518   4.0  52.0  61.0   \n",
       "1          0              1047.0  45.063992  13.010538   4.0  36.0  46.0   \n",
       "           1               775.0  56.507097  10.116742  26.0  50.0  57.0   \n",
       "\n",
       "                          75%    max  \n",
       "Alcoholism Hipertension               \n",
       "0          0             49.0  115.0  \n",
       "           1             70.0  115.0  \n",
       "1          0             54.0   81.0  \n",
       "           1             63.0   85.0  "
      ]
     },
     "execution_count": 27,
     "metadata": {},
     "output_type": "execute_result"
    }
   ],
   "source": [
    "#Effect of Alcoholism on having Hipertension\n",
    "Alcoholism_Hipertension = df.groupby([\"Alcoholism\",\"Hipertension\"]).describe()\n",
    "Alcoholism_Hipertension[\"Age\"]"
   ]
  },
  {
   "cell_type": "code",
   "execution_count": 28,
   "id": "technical-friendship",
   "metadata": {},
   "outputs": [
    {
     "data": {
      "image/png": "[encoded data removed]",
      "text/plain": [
       "<Figure size 576x360 with 1 Axes>"
      ]
     },
     "metadata": {
      "needs_background": "light"
     },
     "output_type": "display_data"
    }
   ],
   "source": [
    "NoAlcoholism_percentage = [Alcoholism_Hipertension[\"Age\"][\"count\"][0][0]*100/\n",
    "                           sum(Alcoholism_Hipertension[\"Age\"][\"count\"][0]),\n",
    "                         Alcoholism_Hipertension[\"Age\"][\"count\"][0][1]*100/\n",
    "                           sum(Alcoholism_Hipertension[\"Age\"][\"count\"][0])]\n",
    "\n",
    "Alcoholism_percentage = [Alcoholism_Hipertension[\"Age\"][\"count\"][1][0]*100/\n",
    "                         sum(Alcoholism_Hipertension[\"Age\"][\"count\"][1]),\n",
    "                         Alcoholism_Hipertension[\"Age\"][\"count\"][1][1]*100/\n",
    "                         sum(Alcoholism_Hipertension[\"Age\"][\"count\"][1])]\n",
    "\n",
    "\n",
    "x = np.arange(2)\n",
    "fig, ax = plt.subplots(figsize = (8,5))\n",
    "plt.bar(x-.1,Alcoholism_percentage,width = 0.2,color = [\"b\"])\n",
    "plt.bar(x+.1,NoAlcoholism_percentage,width = 0.2,color = [\"orange\"])\n",
    "\n",
    "plt.xticks(x, [\"No Hipertension\",'has Hipertension'])\n",
    "plt.text(x[0]-.15,Alcoholism_percentage[0]+.1,str(Alcoholism_percentage[0])[:5]+\"%\",fontweight ='bold')\n",
    "plt.text(x[1]-.15,Alcoholism_percentage[1]+.1,str(Alcoholism_percentage[1])[:5]+\"%\",fontweight ='bold')\n",
    "plt.text(x[0]+.05,NoAlcoholism_percentage[0]+.1,str(NoAlcoholism_percentage[0])[:5]+\"%\",fontweight ='bold')\n",
    "plt.text(x[1]+.05,NoAlcoholism_percentage[1]+.1,str(NoAlcoholism_percentage[1])[:5]+\"%\",fontweight ='bold')\n",
    "plt.title(\"Hipertension Percent\")\n",
    "plt.ylabel(\"Percent\");\n",
    "plt.xlabel(\"Condition\")\n",
    "plt.legend([\"Alcoholic Patient\",\"Non-Alcoholic Patient\"]);"
   ]
  },
  {
   "cell_type": "markdown",
   "id": "computational-onion",
   "metadata": {},
   "source": [
    "# Note:\n",
    "### About 42.5% of Alcoholic Patients suffer Hipertension compared to only 20.3% for  Non-Alcoholic Patients"
   ]
  },
  {
   "cell_type": "code",
   "execution_count": 29,
   "id": "loose-actress",
   "metadata": {},
   "outputs": [
    {
     "data": {
      "text/html": [
       "<div>\n",
       "<style scoped>\n",
       "    .dataframe tbody tr th:only-of-type {\n",
       "        vertical-align: middle;\n",
       "    }\n",
       "\n",
       "    .dataframe tbody tr th {\n",
       "        vertical-align: top;\n",
       "    }\n",
       "\n",
       "    .dataframe thead th {\n",
       "        text-align: right;\n",
       "    }\n",
       "</style>\n",
       "<table border=\"1\" class=\"dataframe\">\n",
       "  <thead>\n",
       "    <tr style=\"text-align: right;\">\n",
       "      <th></th>\n",
       "      <th></th>\n",
       "      <th>count</th>\n",
       "      <th>mean</th>\n",
       "      <th>std</th>\n",
       "      <th>min</th>\n",
       "      <th>25%</th>\n",
       "      <th>50%</th>\n",
       "      <th>75%</th>\n",
       "      <th>max</th>\n",
       "    </tr>\n",
       "    <tr>\n",
       "      <th>Alcoholism</th>\n",
       "      <th>Diabetes</th>\n",
       "      <th></th>\n",
       "      <th></th>\n",
       "      <th></th>\n",
       "      <th></th>\n",
       "      <th></th>\n",
       "      <th></th>\n",
       "      <th></th>\n",
       "      <th></th>\n",
       "    </tr>\n",
       "  </thead>\n",
       "  <tbody>\n",
       "    <tr>\n",
       "      <th rowspan=\"2\" valign=\"top\">0</th>\n",
       "      <th>0</th>\n",
       "      <td>64968.0</td>\n",
       "      <td>36.347279</td>\n",
       "      <td>22.626989</td>\n",
       "      <td>0.0</td>\n",
       "      <td>18.0</td>\n",
       "      <td>36.0</td>\n",
       "      <td>54.0</td>\n",
       "      <td>115.0</td>\n",
       "    </tr>\n",
       "    <tr>\n",
       "      <th>1</th>\n",
       "      <td>5169.0</td>\n",
       "      <td>61.563358</td>\n",
       "      <td>13.588287</td>\n",
       "      <td>1.0</td>\n",
       "      <td>53.0</td>\n",
       "      <td>62.0</td>\n",
       "      <td>70.0</td>\n",
       "      <td>98.0</td>\n",
       "    </tr>\n",
       "    <tr>\n",
       "      <th rowspan=\"2\" valign=\"top\">1</th>\n",
       "      <th>0</th>\n",
       "      <td>1614.0</td>\n",
       "      <td>48.803594</td>\n",
       "      <td>13.090338</td>\n",
       "      <td>4.0</td>\n",
       "      <td>40.0</td>\n",
       "      <td>50.0</td>\n",
       "      <td>57.0</td>\n",
       "      <td>85.0</td>\n",
       "    </tr>\n",
       "    <tr>\n",
       "      <th>1</th>\n",
       "      <td>208.0</td>\n",
       "      <td>58.682692</td>\n",
       "      <td>9.881681</td>\n",
       "      <td>28.0</td>\n",
       "      <td>54.0</td>\n",
       "      <td>58.0</td>\n",
       "      <td>66.0</td>\n",
       "      <td>84.0</td>\n",
       "    </tr>\n",
       "  </tbody>\n",
       "</table>\n",
       "</div>"
      ],
      "text/plain": [
       "                       count       mean        std   min   25%   50%   75%  \\\n",
       "Alcoholism Diabetes                                                          \n",
       "0          0         64968.0  36.347279  22.626989   0.0  18.0  36.0  54.0   \n",
       "           1          5169.0  61.563358  13.588287   1.0  53.0  62.0  70.0   \n",
       "1          0          1614.0  48.803594  13.090338   4.0  40.0  50.0  57.0   \n",
       "           1           208.0  58.682692   9.881681  28.0  54.0  58.0  66.0   \n",
       "\n",
       "                       max  \n",
       "Alcoholism Diabetes         \n",
       "0          0         115.0  \n",
       "           1          98.0  \n",
       "1          0          85.0  \n",
       "           1          84.0  "
      ]
     },
     "execution_count": 29,
     "metadata": {},
     "output_type": "execute_result"
    }
   ],
   "source": [
    "#Effect of Alcoholism on having Diabetes\n",
    "Alcoholism_Diabetes = df.groupby([\"Alcoholism\",\"Diabetes\"]).describe()\n",
    "Alcoholism_Diabetes[\"Age\"]"
   ]
  },
  {
   "cell_type": "code",
   "execution_count": 30,
   "id": "secondary-feeding",
   "metadata": {},
   "outputs": [
    {
     "data": {
      "image/png": "[encoded data removed]",
      "text/plain": [
       "<Figure size 576x360 with 1 Axes>"
      ]
     },
     "metadata": {
      "needs_background": "light"
     },
     "output_type": "display_data"
    }
   ],
   "source": [
    "Alcoholism_percentage = [Alcoholism_Diabetes[\"Age\"][\"count\"][1][0]*100/\n",
    "                         sum(Alcoholism_Diabetes[\"Age\"][\"count\"][1]),\n",
    "                         Alcoholism_Diabetes[\"Age\"][\"count\"][1][1]*100/\n",
    "                         sum(Alcoholism_Diabetes[\"Age\"][\"count\"][1])]\n",
    "\n",
    "NoAlcoholism_percentage = [Alcoholism_Diabetes[\"Age\"][\"count\"][0][0]*100/\n",
    "                           sum(Alcoholism_Diabetes[\"Age\"][\"count\"][0]),\n",
    "                         Alcoholism_Diabetes[\"Age\"][\"count\"][0][1]*100/\n",
    "                           sum(Alcoholism_Diabetes[\"Age\"][\"count\"][0])]\n",
    "x = np.arange(2)\n",
    "fig, ax = plt.subplots(figsize = (8,5))\n",
    "plt.bar(x-.1,Alcoholism_percentage,width = 0.2,color = [\"b\"])\n",
    "plt.bar(x+.1,NoAlcoholism_percentage,width = 0.2,color = [\"orange\"])\n",
    "\n",
    "plt.xticks(x, [\"No Diabetes\",'Has Diabetes'])\n",
    "plt.text(x[0]-.15,Alcoholism_percentage[0]+.1,str(Alcoholism_percentage[0])[:5]+\"%\",fontweight ='bold')\n",
    "plt.text(x[1]-.15,Alcoholism_percentage[1]+.1,str(Alcoholism_percentage[1])[:5]+\"%\",fontweight ='bold')\n",
    "plt.text(x[0]+.05,NoAlcoholism_percentage[0]+.1,str(NoAlcoholism_percentage[0])[:5]+\"%\",fontweight ='bold')\n",
    "plt.text(x[1]+.05,NoAlcoholism_percentage[1]+.1,str(NoAlcoholism_percentage[1])[:5]+\"%\",fontweight ='bold')\n",
    "plt.title(\"Diabetes Percent\")\n",
    "plt.ylabel(\"Percent\")\n",
    "plt.xlabel(\"Condition\")\n",
    "plt.legend([\"Alcoholic Patient\",\"Non-Alcoholic Patient\"]);"
   ]
  },
  {
   "cell_type": "markdown",
   "id": "intimate-ministry",
   "metadata": {},
   "source": [
    "# Note:\n",
    "### About 11.4% of Alcoholic Patients suffer Diabetes compared to only 7.3% for  Non-Alcoholic Patients"
   ]
  },
  {
   "cell_type": "markdown",
   "id": "aerial-victor",
   "metadata": {},
   "source": [
    "# 1.3 What is the effect of age on having chronic disease?"
   ]
  },
  {
   "cell_type": "code",
   "execution_count": 31,
   "id": "sorted-queensland",
   "metadata": {},
   "outputs": [
    {
     "data": {
      "image/png": "[encoded data removed]",
      "text/plain": [
       "<Figure size 576x360 with 1 Axes>"
      ]
     },
     "metadata": {
      "needs_background": "light"
     },
     "output_type": "display_data"
    }
   ],
   "source": [
    "#Plot Age VS The Percent of of people in this age who suffer Diabetes and Hipertension  \n",
    "Diabetes_percent = (chronic_df[chronic_df[\"Diabetes\"]==1][\"Age\"].value_counts()/\n",
    "                    df[\"Age\"].value_counts()).fillna(0)*100\n",
    "Hipertension_percent= (chronic_df[chronic_df[\"Hipertension\"]==1][\"Age\"].value_counts()/\n",
    "                       df[\"Age\"].value_counts()).fillna(0)*100\n",
    "\n",
    "#fill nan values with zero as nan values means that Noone of this age has diabetes.\n",
    "fig, ax = plt.subplots(figsize = (8,5))\n",
    "plt.scatter(Diabetes_percent.index,Diabetes_percent.values)\n",
    "plt.scatter(Hipertension_percent.index,Hipertension_percent.values)\n",
    "plt.title(\"Disease Percent\")\n",
    "plt.xlabel(\"Age (Years)\")\n",
    "plt.ylabel(\"Percent that has Disease of this Age %\")\n",
    "plt.legend([\"Diabetes\",\"Hipertension\"]);"
   ]
  },
  {
   "cell_type": "markdown",
   "id": "surprising-quality",
   "metadata": {},
   "source": [
    "# Notes\n",
    "#### 1- As noticed before, the percent of people with Hipertension is more than those with Diabetes.\n",
    "#### 2- About Mid 20th is the beginning to get a chronic disease.\n",
    "#### 3- Getting older increase the risk of  getting a chronic disease.\n",
    "#### 4- For people with about 65 years old and older, the risk of getting diabetes becomes some kind constant or less than younger patients.\n",
    "\n",
    "#### 5- Pervious note makes no sense, so those older patients should be examined and surveys about their food and daily routine should be conducted."
   ]
  },
  {
   "cell_type": "markdown",
   "id": "global-adoption",
   "metadata": {},
   "source": [
    "# Research Question 2 \n",
    "## What factors are important for us to know in order to predict if a patient will show up for their scheduled appointment?"
   ]
  },
  {
   "cell_type": "markdown",
   "id": "becoming-library",
   "metadata": {},
   "source": [
    "### 2.1 What is the effect of Age on probability of showing up?"
   ]
  },
  {
   "cell_type": "code",
   "execution_count": 32,
   "id": "alpha-jesus",
   "metadata": {},
   "outputs": [
    {
     "data": {
      "image/png": "[encoded data removed]",
      "text/plain": [
       "<Figure size 576x360 with 1 Axes>"
      ]
     },
     "metadata": {
      "needs_background": "light"
     },
     "output_type": "display_data"
    }
   ],
   "source": [
    "#Get the average age of people who showed up and those who didn't.\n",
    "fig, ax = plt.subplots(figsize = (8,5))\n",
    "plt.title(\"Effect of Age on showing up 1\",fontweight ='bold')\n",
    "plt.xlabel(\"Condition\",fontweight ='bold')\n",
    "plt.ylabel(\"Average Age (Years)\",fontweight ='bold')\n",
    "x = np.arange(2)\n",
    "average = df.groupby(\"No-show\").mean()[\"Age\"].values\n",
    "ax.bar(x,average,color=[\"royalblue\",\"darkorange\"] ,width = .2)\n",
    "plt.xticks(x, [\"Showup\",'No-showup'])\n",
    "ax.text(x[0]-.05,average[0]+.1,str(average[0])[:5],fontweight ='bold')\n",
    "ax.text(x[1]-.05,average[1]+.1,str(average[1])[:5],fontweight ='bold');"
   ]
  },
  {
   "cell_type": "markdown",
   "id": "framed-transaction",
   "metadata": {},
   "source": [
    "## Note:\n",
    "### Average age for people who showed-up is higher than for those who didn't."
   ]
  },
  {
   "cell_type": "code",
   "execution_count": 33,
   "id": "geological-agreement",
   "metadata": {},
   "outputs": [
    {
     "data": {
      "image/png": "[encoded data removed]",
      "text/plain": [
       "<Figure size 432x288 with 1 Axes>"
      ]
     },
     "metadata": {
      "needs_background": "light"
     },
     "output_type": "display_data"
    }
   ],
   "source": [
    "#percent of each age that didn't show up\n",
    "Age_percent = (noshow_df[\"Age\"].value_counts().sort_index()/df[\"Age\"].value_counts().sort_index()).fillna(0)*100\n",
    "plt.title(\"Effect of Age on showing up 2\",fontweight ='bold')\n",
    "plt.xlabel(\"Age\",fontweight ='bold')\n",
    "plt.ylabel(\"No-showup Percent\",fontweight ='bold')\n",
    "plt.scatter(Age_percent.index,Age_percent.values);"
   ]
  },
  {
   "cell_type": "markdown",
   "id": "refined-display",
   "metadata": {},
   "source": [
    "## Note:\n",
    "### In general, The higher the age is, the lower percentage of people who didn't show-up."
   ]
  },
  {
   "cell_type": "code",
   "execution_count": null,
   "id": "specialized-tourism",
   "metadata": {},
   "outputs": [],
   "source": []
  },
  {
   "cell_type": "markdown",
   "id": "forward-glenn",
   "metadata": {},
   "source": [
    "## 2.2 What is the effect of Waiting time on probability of showing up?"
   ]
  },
  {
   "cell_type": "code",
   "execution_count": 34,
   "id": "reverse-favorite",
   "metadata": {},
   "outputs": [
    {
     "data": {
      "image/png": "[encoded data removed]",
      "text/plain": [
       "<Figure size 576x360 with 1 Axes>"
      ]
     },
     "metadata": {
      "needs_background": "light"
     },
     "output_type": "display_data"
    }
   ],
   "source": [
    "#Get the average Waiting time between registering and the appointment of people who showed up and those who didn't.\n",
    "fig, ax = plt.subplots(figsize = (8,5))\n",
    "plt.title(\"Effect of Waiting time on showing up 1\",fontweight ='bold')\n",
    "plt.xlabel(\"Condition\",fontweight ='bold')\n",
    "plt.ylabel(\"Average waiting time (days)\",fontweight ='bold')\n",
    "x = np.arange(2)\n",
    "average = df.groupby(\"No-show\").mean()[\"Waiting_time_days\"].values\n",
    "ax.bar(x,average,color=[\"royalblue\",\"darkorange\"] ,width = .2)\n",
    "plt.xticks(x, [\"Showup\",'No-showup'])\n",
    "ax.text(x[0]-.05,average[0]+.1,str(average[0])[:5],fontweight ='bold')\n",
    "ax.text(x[1]-.05,average[1]+.1,str(average[1])[:5],fontweight ='bold');"
   ]
  },
  {
   "cell_type": "code",
   "execution_count": 35,
   "id": "banned-limit",
   "metadata": {},
   "outputs": [
    {
     "data": {
      "text/plain": [
       "(0, 5]         23.500559\n",
       "(5, 10]        27.047859\n",
       "(10, 15]       31.902439\n",
       "(15, 20]       32.377495\n",
       "(20, 25]       34.134897\n",
       "(25, 30]       31.069998\n",
       "(30, 35]       34.578933\n",
       "(35, 40]       34.285714\n",
       "(40, 45]       34.276970\n",
       "(45, 50]       31.543624\n",
       "(50, 55]       35.947712\n",
       "(55, 60]       32.752613\n",
       "(60, 65]       25.857143\n",
       "(65, 70]       31.054688\n",
       "(70, 75]       29.880478\n",
       "(75, 80]       35.416667\n",
       "(80, 85]       22.727273\n",
       "(85, 90]       28.318584\n",
       "(90, 95]       19.117647\n",
       "(95, 100]      18.181818\n",
       "(100, 105]     45.454545\n",
       "(105, 110]      7.142857\n",
       "(110, 115]      8.333333\n",
       "(115, 120]      0.000000\n",
       "(120, 125]      0.000000\n",
       "(125, 130]     50.000000\n",
       "(130, 135]     41.666667\n",
       "(135, 140]    100.000000\n",
       "(140, 145]     37.500000\n",
       "Name: Waiting_time_days, dtype: float64"
      ]
     },
     "execution_count": 35,
     "metadata": {},
     "output_type": "execute_result"
    }
   ],
   "source": [
    "#group Waiting time data by value ranges \n",
    "#to plot each Waiting time range VS the percentage of people who did't show up in this range. \n",
    "bins = np.arange(0,150,5)\n",
    "noshow_counts= pd.cut(noshow_df[\"Waiting_time_days\"],bins).value_counts()\n",
    "total_counts = pd.cut(df[\"Waiting_time_days\"],bins).value_counts()\n",
    "percentage = (noshow_counts/total_counts)*100\n",
    "percentage"
   ]
  },
  {
   "cell_type": "code",
   "execution_count": 36,
   "id": "bridal-vancouver",
   "metadata": {
    "scrolled": true
   },
   "outputs": [
    {
     "data": {
      "text/plain": [
       "(0, 5]        32.298948\n",
       "(5, 10]       19.832127\n",
       "(10, 15]      11.395378\n",
       "(15, 20]       7.657138\n",
       "(25, 30]       7.286093\n",
       "(20, 25]       7.108214\n",
       "(30, 35]       5.132089\n",
       "(35, 40]       2.091469\n",
       "(40, 45]       1.816312\n",
       "(45, 50]       1.035312\n",
       "(60, 65]       0.972776\n",
       "(55, 60]       0.797676\n",
       "(65, 70]       0.711516\n",
       "(50, 55]       0.637863\n",
       "(70, 75]       0.348810\n",
       "(75, 80]       0.266819\n",
       "(85, 90]       0.157034\n",
       "(80, 85]       0.152865\n",
       "(90, 95]       0.094498\n",
       "(100, 105]     0.030573\n",
       "(105, 110]     0.019456\n",
       "(110, 115]     0.016676\n",
       "(130, 135]     0.016676\n",
       "(95, 100]      0.015286\n",
       "(140, 145]     0.011117\n",
       "(115, 120]     0.006948\n",
       "(120, 125]     0.006948\n",
       "(125, 130]     0.002779\n",
       "(135, 140]     0.001390\n",
       "Name: Waiting_time_days, dtype: float64"
      ]
     },
     "execution_count": 36,
     "metadata": {},
     "output_type": "execute_result"
    }
   ],
   "source": [
    "#get the weight(number of observations) of each range in the dataset\n",
    "weight = (total_counts/len(df))*100\n",
    "weight"
   ]
  },
  {
   "cell_type": "markdown",
   "id": "interim-practice",
   "metadata": {},
   "source": [
    "# So we can only take waiting time ranges from 0 to 50 to get accurate explanation as other ranges percentages in dataset are very small."
   ]
  },
  {
   "cell_type": "code",
   "execution_count": 37,
   "id": "perfect-international",
   "metadata": {},
   "outputs": [
    {
     "data": {
      "image/png": "[encoded data removed]",
      "text/plain": [
       "<Figure size 1080x360 with 1 Axes>"
      ]
     },
     "metadata": {
      "needs_background": "light"
     },
     "output_type": "display_data"
    }
   ],
   "source": [
    "locations = []\n",
    "c = 0\n",
    "for i in range(len((noshow_counts/total_counts).index)):\n",
    "    locations.append(\"[{},{}]\".format(c,c+5))\n",
    "    c+=5\n",
    "fig, ax = plt.subplots(figsize = (15,5))\n",
    "plt.scatter(locations[:10],((noshow_counts/total_counts)*100).values[:10])\n",
    "plt.title(\"Effect of Waiting time on showing up 2\",fontweight ='bold')\n",
    "plt.xlabel(\"Waiting days range\",fontweight ='bold')\n",
    "plt.ylabel(\"Percent that didn't show up\",fontweight ='bold');"
   ]
  },
  {
   "cell_type": "markdown",
   "id": "virgin-cookie",
   "metadata": {},
   "source": [
    "## Note:\n",
    "### 1- The longer the waiting time is, the higher percentage that didn't show up.\n",
    "### 2- Average waiting time for patients who didn't show up is 16.72 days compared to 14.5 for those who showed up\n"
   ]
  },
  {
   "cell_type": "code",
   "execution_count": null,
   "id": "aquatic-flooring",
   "metadata": {},
   "outputs": [],
   "source": []
  },
  {
   "cell_type": "markdown",
   "id": "informational-piece",
   "metadata": {},
   "source": [
    "## 2.3 What is the effect of Scholarship, Hipertension, Diabetes, Alcoholism, SMS_received on probabilty of showing up?"
   ]
  },
  {
   "cell_type": "code",
   "execution_count": 38,
   "id": "dimensional-appointment",
   "metadata": {},
   "outputs": [
    {
     "data": {
      "text/plain": [
       "Scholarship  No-show\n",
       "0            No         47099\n",
       "             Yes        18189\n",
       "1            No          4338\n",
       "             Yes         2333\n",
       "Name: Age, dtype: int64"
      ]
     },
     "execution_count": 38,
     "metadata": {},
     "output_type": "execute_result"
    }
   ],
   "source": [
    "df.groupby([\"Scholarship\",\"No-show\"]).count()[\"Age\"]"
   ]
  },
  {
   "cell_type": "code",
   "execution_count": 39,
   "id": "favorite-liverpool",
   "metadata": {},
   "outputs": [
    {
     "data": {
      "image/png": "[encoded data removed]",
      "text/plain": [
       "<Figure size 504x360 with 1 Axes>"
      ]
     },
     "metadata": {
      "needs_background": "light"
     },
     "output_type": "display_data"
    },
    {
     "data": {
      "image/png": "[encoded data removed]",
      "text/plain": [
       "<Figure size 504x360 with 1 Axes>"
      ]
     },
     "metadata": {
      "needs_background": "light"
     },
     "output_type": "display_data"
    },
    {
     "data": {
      "image/png": "[encoded data removed]",
      "text/plain": [
       "<Figure size 504x360 with 1 Axes>"
      ]
     },
     "metadata": {
      "needs_background": "light"
     },
     "output_type": "display_data"
    },
    {
     "data": {
      "image/png": "[encoded data removed]",
      "text/plain": [
       "<Figure size 504x360 with 1 Axes>"
      ]
     },
     "metadata": {
      "needs_background": "light"
     },
     "output_type": "display_data"
    },
    {
     "data": {
      "image/png": "[encoded data removed]",
      "text/plain": [
       "<Figure size 504x360 with 1 Axes>"
      ]
     },
     "metadata": {
      "needs_background": "light"
     },
     "output_type": "display_data"
    }
   ],
   "source": [
    "# Get effect of ('Scholarship', 'Hipertension', 'Diabetes', 'Alcoholism', 'SMS_received') the [0,1] columns,\n",
    "# by comparing the percentage of people didn't show up of patients having Scholarship (\"for example\") \n",
    "# and percent among those who don't have it.   \n",
    "variables = ['Scholarship', 'Hipertension', 'Diabetes', 'Alcoholism', 'SMS_received']\n",
    "for variable in variables:\n",
    "    fig, ax = plt.subplots(figsize = (7,5))\n",
    "    plt.title(\"Effect of {} on showing up\".format(variable))\n",
    "    no = len(df[df[variable]==0])#total number of patients who don't have the [variable] Scholarship for example. \n",
    "    yes = len(df[df[variable]==1])#total number of patients who have the [variable] Scholarship for example.\n",
    "    Total = [no,no,yes,yes]\n",
    "    #Get the percent of patients without Scholarship(for example) who showed up an not show up\n",
    "    #And get the percent of patients with Scholarship (for example) who showed up an not show up\n",
    "    variable_Percent = (df.groupby([variable,\"No-show\"]).count()[\"Age\"]/Total)*100\n",
    "    x = np.arange(2)\n",
    "    #plot for percent of patients without Scholarship(for example) who showed up and didn't show up. \n",
    "    ax.bar(x-0.05,variable_Percent[0],width = 0.1)\n",
    "    ax.text(x[0]-.15 ,variable_Percent[0][0]+.5,str(variable_Percent[0][0])[:5]+\"%\", fontweight ='bold' )\n",
    "    ax.text(x[1]-.15,variable_Percent[0][1]+.5,str(variable_Percent[0][1])[:5]+\"%\", fontweight ='bold' )\n",
    "    #plot for percent of patients with Scholarship(for example) who showed up and didn't show up. \n",
    "    ax.bar(x+0.05,variable_Percent[1],width = 0.1)\n",
    "    ax.text(x[0] ,variable_Percent[1][0]+.5,str(variable_Percent[1][0])[:5]+\"%\", fontweight ='bold' )\n",
    "    ax.text(x[1],variable_Percent[1][1]+.5,str(variable_Percent[1][1])[:5]+\"%\", fontweight ='bold' )\n",
    "    plt.xticks(x, [\"Showup\",'No-showup'])\n",
    "    plt.legend([\"No-{}\".format(variable),\"has-{}\".format(variable)]);\n",
    "    plt.xlabel(\"Condition\",fontweight ='bold')\n",
    "    plt.ylabel(\"Percent\",fontweight ='bold')"
   ]
  },
  {
   "cell_type": "markdown",
   "id": "controlling-priority",
   "metadata": {},
   "source": [
    "## Note:\n",
    "#### 1- Higher percent of people with Scholarship didn’t show up\n",
    "#### 2- Higher percent of people without Hypertension didn’t show up\n",
    "#### 3 - Higher percent of people without Diabetes didn’t show up\n",
    "#### 4- Higher percent of people with Alcoholism didn’t show up\n",
    "#### 5- Slightly higher percent of people that didn’t receive SMS didn’t show up"
   ]
  },
  {
   "cell_type": "code",
   "execution_count": null,
   "id": "identified-extent",
   "metadata": {},
   "outputs": [],
   "source": []
  },
  {
   "cell_type": "markdown",
   "id": "violent-trainer",
   "metadata": {},
   "source": [
    "## 2.4 What is the effect of Gender on probabilty of showing up?"
   ]
  },
  {
   "cell_type": "code",
   "execution_count": 40,
   "id": "dying-joint",
   "metadata": {},
   "outputs": [
    {
     "data": {
      "text/plain": [
       "Gender  No-show\n",
       "F       No         34396\n",
       "        Yes        13674\n",
       "M       No         17041\n",
       "        Yes         6848\n",
       "Name: Age, dtype: int64"
      ]
     },
     "execution_count": 40,
     "metadata": {},
     "output_type": "execute_result"
    }
   ],
   "source": [
    "Gender_count = df.groupby([\"Gender\",\"No-show\"]).count()[\"Age\"]\n",
    "Gender_count"
   ]
  },
  {
   "cell_type": "code",
   "execution_count": 41,
   "id": "signal-rocket",
   "metadata": {},
   "outputs": [
    {
     "data": {
      "text/plain": [
       "[48070, 48070, 23889, 23889]"
      ]
     },
     "execution_count": 41,
     "metadata": {},
     "output_type": "execute_result"
    }
   ],
   "source": [
    "female_num = df[(df[\"Gender\"]== \"F\")][\"Gender\"].count()\n",
    "male_num = df[(df[\"Gender\"]== \"M\")][\"Gender\"].count()\n",
    "total_num = [female_num,female_num,male_num,male_num]\n",
    "total_num"
   ]
  },
  {
   "cell_type": "code",
   "execution_count": 42,
   "id": "wireless-space",
   "metadata": {},
   "outputs": [
    {
     "data": {
      "text/plain": [
       "Gender  No-show\n",
       "F       No         71.553984\n",
       "        Yes        28.446016\n",
       "M       No         71.334087\n",
       "        Yes        28.665913\n",
       "Name: Age, dtype: float64"
      ]
     },
     "execution_count": 42,
     "metadata": {},
     "output_type": "execute_result"
    }
   ],
   "source": [
    "normalized_Gender = (Gender_count/total_num)*100\n",
    "normalized_Gender"
   ]
  },
  {
   "cell_type": "code",
   "execution_count": 43,
   "id": "native-cigarette",
   "metadata": {},
   "outputs": [
    {
     "data": {
      "image/png": "[encoded data removed]",
      "text/plain": [
       "<Figure size 720x360 with 1 Axes>"
      ]
     },
     "metadata": {
      "needs_background": "light"
     },
     "output_type": "display_data"
    }
   ],
   "source": [
    "fig, ax = plt.subplots(figsize = (10,5))\n",
    "plt.title(\"Effect of Gender on showing up\",fontweight ='bold')\n",
    "x = np.arange(2)\n",
    "ax.bar(x-0.05,normalized_Gender[0:2],width = 0.1)\n",
    "ax.text(x[0]-.1 ,normalized_Gender[0]+.5,str(normalized_Gender[0])[:5]+\"%\", fontweight ='bold' )\n",
    "ax.text(x[1]-.1 ,normalized_Gender[1]+.5,str(normalized_Gender[1])[:5]+\"%\", fontweight ='bold' )\n",
    "ax.bar(x+0.05,normalized_Gender[2:],width = 0.1)\n",
    "ax.text(x[0] ,normalized_Gender[2]+.5,str(normalized_Gender[2])[:5]+\"%\", fontweight ='bold' )\n",
    "ax.text(x[1] ,normalized_Gender[3]+.5,str(normalized_Gender[3])[:5]+\"%\", fontweight ='bold' )\n",
    "plt.legend([\"Female\",'Male'])\n",
    "plt.xticks(x, [\"Showup\",\"No-showup\"])\n",
    "plt.xlabel(\"Condition\",fontweight ='bold')\n",
    "plt.ylabel(\"Percent\",fontweight ='bold');"
   ]
  },
  {
   "cell_type": "markdown",
   "id": "presidential-protection",
   "metadata": {},
   "source": [
    "## Note:\n",
    "#### About 71.5% of registered Females attended.\n",
    "#### About 71.3% of registered Males attended.\n",
    "#### So, it seems Gender doesn't have a significant effect on Attendance"
   ]
  },
  {
   "cell_type": "code",
   "execution_count": null,
   "id": "threatened-atlas",
   "metadata": {},
   "outputs": [],
   "source": []
  },
  {
   "cell_type": "markdown",
   "id": "fiscal-cedar",
   "metadata": {},
   "source": [
    "### 2.5 What is the effect of AppointmentDay on probabilty of showing up? "
   ]
  },
  {
   "cell_type": "code",
   "execution_count": 44,
   "id": "inside-malawi",
   "metadata": {},
   "outputs": [
    {
     "data": {
      "text/plain": [
       "appointment_day\n",
       "Friday       12516\n",
       "Monday       14581\n",
       "Saturday        31\n",
       "Thursday     11325\n",
       "Tuesday      16462\n",
       "Wednesday    17044\n",
       "Name: Age, dtype: int64"
      ]
     },
     "execution_count": 44,
     "metadata": {},
     "output_type": "execute_result"
    }
   ],
   "source": [
    "df.groupby(\"appointment_day\").count()[\"Age\"]"
   ]
  },
  {
   "cell_type": "code",
   "execution_count": 45,
   "id": "painful-marina",
   "metadata": {
    "scrolled": true
   },
   "outputs": [
    {
     "data": {
      "text/plain": [
       "appointment_day\n",
       "Friday       3674\n",
       "Monday       4405\n",
       "Saturday        9\n",
       "Thursday     3088\n",
       "Tuesday      4719\n",
       "Wednesday    4627\n",
       "Name: Age, dtype: int64"
      ]
     },
     "execution_count": 45,
     "metadata": {},
     "output_type": "execute_result"
    }
   ],
   "source": [
    "#total of no-show appointments in each week day\n",
    "noshow_df.groupby(\"appointment_day\").count()[\"Age\"]"
   ]
  },
  {
   "cell_type": "code",
   "execution_count": 46,
   "id": "recent-county",
   "metadata": {},
   "outputs": [
    {
     "data": {
      "text/plain": [
       "appointment_day\n",
       "Wednesday    27.147383\n",
       "Thursday     27.267108\n",
       "Tuesday      28.666019\n",
       "Saturday     29.032258\n",
       "Friday       29.354426\n",
       "Monday       30.210548\n",
       "Name: Age, dtype: float64"
      ]
     },
     "execution_count": 46,
     "metadata": {},
     "output_type": "execute_result"
    }
   ],
   "source": [
    "#Get percentage of patients that didn't showup in each day of the wee\n",
    "absense_percentage = ((noshow_df.groupby(\"appointment_day\").count()\n",
    "                          /df.groupby(\"appointment_day\").count())[\"Age\"]*100).sort_values()\n",
    "absense_percentage"
   ]
  },
  {
   "cell_type": "code",
   "execution_count": 47,
   "id": "needed-supplement",
   "metadata": {},
   "outputs": [
    {
     "data": {
      "image/png": "[encoded data removed]",
      "text/plain": [
       "<Figure size 576x360 with 1 Axes>"
      ]
     },
     "metadata": {
      "needs_background": "light"
     },
     "output_type": "display_data"
    }
   ],
   "source": [
    "fig, ax = plt.subplots(figsize = (8,5))\n",
    "plt.title(\"Effect of Appointment weekDay on showing up\",fontweight ='bold')\n",
    "x = np.arange(6)\n",
    "ax.bar(x,absense_percentage,color=[\"royalblue\"] ,width = .2)\n",
    "plt.xticks(x, absense_percentage.index)\n",
    "ax.text(x[0]-.2,absense_percentage[0]+.1,str(absense_percentage[0])[:5]+\"%\",fontweight ='bold');\n",
    "ax.text(x[1]-.2,absense_percentage[1]+.1,str(absense_percentage[1])[:5]+\"%\",fontweight ='bold');\n",
    "ax.text(x[2]-.2,absense_percentage[2]+.1,str(absense_percentage[2])[:5]+\"%\",fontweight ='bold');\n",
    "ax.text(x[3]-.2,absense_percentage[3]+.1,str(absense_percentage[3])[:5]+\"%\",fontweight ='bold');\n",
    "ax.text(x[4]-.2,absense_percentage[4]+.1,str(absense_percentage[4])[:5]+\"%\",fontweight ='bold');\n",
    "ax.text(x[5]-.2,absense_percentage[5]+.1,str(absense_percentage[5])[:5]+\"%\",fontweight ='bold');\n",
    "ax.text(x[-1]-.2,absense_percentage[-1]+.1,str(absense_percentage[-1])[:5],fontweight ='bold');\n",
    "plt.xlabel(\"Weekday\",fontweight ='bold')\n",
    "plt.ylabel(\"No-showup Percent\",fontweight ='bold');"
   ]
  },
  {
   "cell_type": "markdown",
   "id": "about-briefs",
   "metadata": {},
   "source": [
    "## Note:  \n",
    "### Days in the beginning and end of the week [Monday - Saturday - Friday ] are more probable to have more patient that no-show up than midweek days."
   ]
  },
  {
   "cell_type": "code",
   "execution_count": null,
   "id": "agreed-exchange",
   "metadata": {},
   "outputs": [],
   "source": []
  },
  {
   "cell_type": "markdown",
   "id": "characteristic-focus",
   "metadata": {},
   "source": [
    "## 2.6 What is the effect of Neighborhood on probabilty of showing up? "
   ]
  },
  {
   "cell_type": "code",
   "execution_count": 48,
   "id": "isolated-optics",
   "metadata": {},
   "outputs": [
    {
     "data": {
      "text/plain": [
       "ILHA DO BOI                      8.695652\n",
       "SOLON BORGES                    19.287834\n",
       "AEROPORTO                       20.000000\n",
       "DE LOURDES                      20.270270\n",
       "MORADA DE CAMBURI               20.512821\n",
       "                                  ...    \n",
       "HORTO                           35.964912\n",
       "ITARARÉ                         36.497270\n",
       "JESUS DE NAZARETH               37.492877\n",
       "GURIGICA                        38.371041\n",
       "ILHAS OCEÂNICAS DE TRINDADE    100.000000\n",
       "Name: Neighbourhood, Length: 80, dtype: float64"
      ]
     },
     "execution_count": 48,
     "metadata": {},
     "output_type": "execute_result"
    }
   ],
   "source": [
    "#Get percent of no-show up for each Neighborhood\n",
    "neighbourhood_noshow_percent= (noshow_df[\"Neighbourhood\"].value_counts().sort_index()/\n",
    "                               df[\"Neighbourhood\"].value_counts().sort_index()).sort_values()*100\n",
    "neighbourhood_noshow_percent"
   ]
  },
  {
   "cell_type": "code",
   "execution_count": 49,
   "id": "shaped-mistress",
   "metadata": {},
   "outputs": [
    {
     "data": {
      "text/plain": [
       "JARDIM CAMBURI         7.244403\n",
       "MARIA ORTIZ            5.183507\n",
       "RESISTÊNCIA            3.916119\n",
       "JARDIM DA PENHA        3.689601\n",
       "ITARARÉ                3.308829\n",
       "CENTRO                 3.154574\n",
       "TABUAZEIRO             2.673745\n",
       "JESUS DE NAZARETH      2.438889\n",
       "BONFIM                 2.373574\n",
       "CARATOÍRA              2.349949\n",
       "JABOUR                 2.337442\n",
       "SANTA MARTHA           2.290193\n",
       "SANTO ANTÔNIO          2.252672\n",
       "SANTO ANDRÉ            2.242944\n",
       "SÃO PEDRO              2.201253\n",
       "ANDORINHAS             2.117873\n",
       "ILHA DO PRÍNCIPE       2.088689\n",
       "ROMÃO                  1.976125\n",
       "SÃO JOSÉ               1.912200\n",
       "DA PENHA               1.899693\n",
       "MARUÍPE                1.888575\n",
       "FORTE SÃO JOÃO         1.796857\n",
       "ILHA DE SANTA MARIA    1.784349\n",
       "SÃO CRISTÓVÃO          1.770453\n",
       "NOVA PALESTINA         1.648161\n",
       "BELA VISTA             1.546714\n",
       "GURIGICA               1.535597\n",
       "CRUZAMENTO             1.424422\n",
       "PRAIA DO SUÁ           1.313248\n",
       "REDENÇÃO               1.293792\n",
       "SANTOS DUMONT          1.218750\n",
       "SANTA TEREZA           1.202073\n",
       "JOANA D´ARC            1.184008\n",
       "SÃO BENEDITO           1.147876\n",
       "CONSOLAÇÃO             1.122862\n",
       "INHANGUETÁ             1.090899\n",
       "GRANDE VITÓRIA         0.982504\n",
       "ILHA DAS CAIEIRAS      0.931086\n",
       "PRAIA DO CANTO         0.929696\n",
       "BENTO FERREIRA         0.915799\n",
       "MONTE BELO             0.868550\n",
       "VILA RUBIM             0.831029\n",
       "PARQUE MOSCOSO         0.825470\n",
       "REPÚBLICA              0.822691\n",
       "DO QUADRO              0.775442\n",
       "GOIABEIRAS             0.740700\n",
       "JUCUTUQUARA            0.667047\n",
       "CONQUISTA              0.655929\n",
       "FONTE GRANDE           0.651760\n",
       "MATA DA PRAIA          0.642032\n",
       "Name: Neighbourhood, dtype: float64"
      ]
     },
     "execution_count": 49,
     "metadata": {},
     "output_type": "execute_result"
    }
   ],
   "source": [
    "#Get the percent of patients in each Neighborhood relative to all patients\n",
    "Neighbourhood_weight = (df[\"Neighbourhood\"].value_counts()/len(df))*100\n",
    "Neighbourhood_weight[:50]"
   ]
  },
  {
   "cell_type": "markdown",
   "id": "educated-luxury",
   "metadata": {},
   "source": [
    "### we will deal only with Neighbourhoods that have at least 1% of all patients to make accurate explanation"
   ]
  },
  {
   "cell_type": "code",
   "execution_count": 50,
   "id": "expired-least",
   "metadata": {},
   "outputs": [
    {
     "data": {
      "text/plain": [
       "JARDIM CAMBURI         7.244403\n",
       "MARIA ORTIZ            5.183507\n",
       "RESISTÊNCIA            3.916119\n",
       "JARDIM DA PENHA        3.689601\n",
       "ITARARÉ                3.308829\n",
       "CENTRO                 3.154574\n",
       "TABUAZEIRO             2.673745\n",
       "JESUS DE NAZARETH      2.438889\n",
       "BONFIM                 2.373574\n",
       "CARATOÍRA              2.349949\n",
       "JABOUR                 2.337442\n",
       "SANTA MARTHA           2.290193\n",
       "SANTO ANTÔNIO          2.252672\n",
       "SANTO ANDRÉ            2.242944\n",
       "SÃO PEDRO              2.201253\n",
       "ANDORINHAS             2.117873\n",
       "ILHA DO PRÍNCIPE       2.088689\n",
       "ROMÃO                  1.976125\n",
       "SÃO JOSÉ               1.912200\n",
       "DA PENHA               1.899693\n",
       "MARUÍPE                1.888575\n",
       "FORTE SÃO JOÃO         1.796857\n",
       "ILHA DE SANTA MARIA    1.784349\n",
       "SÃO CRISTÓVÃO          1.770453\n",
       "NOVA PALESTINA         1.648161\n",
       "BELA VISTA             1.546714\n",
       "GURIGICA               1.535597\n",
       "CRUZAMENTO             1.424422\n",
       "PRAIA DO SUÁ           1.313248\n",
       "REDENÇÃO               1.293792\n",
       "SANTOS DUMONT          1.218750\n",
       "SANTA TEREZA           1.202073\n",
       "JOANA D´ARC            1.184008\n",
       "SÃO BENEDITO           1.147876\n",
       "CONSOLAÇÃO             1.122862\n",
       "INHANGUETÁ             1.090899\n",
       "Name: Neighbourhood, dtype: float64"
      ]
     },
     "execution_count": 50,
     "metadata": {},
     "output_type": "execute_result"
    }
   ],
   "source": [
    "Neighbourhood_weight[Neighbourhood_weight>1]"
   ]
  },
  {
   "cell_type": "code",
   "execution_count": 51,
   "id": "tough-ocean",
   "metadata": {},
   "outputs": [
    {
     "data": {
      "text/plain": [
       "JARDIM DA PENHA        22.485876\n",
       "FORTE SÃO JOÃO         23.511214\n",
       "INHANGUETÁ             24.331210\n",
       "SANTO ANTÔNIO          25.478100\n",
       "JABOUR                 25.564804\n",
       "JARDIM CAMBURI         26.069442\n",
       "SANTA TEREZA           26.473988\n",
       "ILHA DE SANTA MARIA    26.869159\n",
       "SÃO JOSÉ               27.107558\n",
       "SÃO CRISTÓVÃO          27.158556\n",
       "TABUAZEIRO             27.338877\n",
       "CRUZAMENTO             27.512195\n",
       "REDENÇÃO               27.604726\n",
       "CONSOLAÇÃO             27.722772\n",
       "DA PENHA               28.017557\n",
       "JOANA D´ARC            28.051643\n",
       "SANTA MARTHA           28.094660\n",
       "SÃO PEDRO              28.472222\n",
       "CENTRO                 28.766520\n",
       "NOVA PALESTINA         29.005059\n",
       "BELA VISTA             29.020665\n",
       "SANTO ANDRÉ            29.368030\n",
       "MARUÍPE                29.654157\n",
       "PRAIA DO SUÁ           29.735450\n",
       "BONFIM                 30.035129\n",
       "RESISTÊNCIA            30.411639\n",
       "MARIA ORTIZ            30.509383\n",
       "ROMÃO                  30.731364\n",
       "SÃO BENEDITO           31.113801\n",
       "CARATOÍRA              31.992904\n",
       "ANDORINHAS             32.217848\n",
       "ILHA DO PRÍNCIPE       32.534930\n",
       "SANTOS DUMONT          34.891676\n",
       "ITARARÉ                36.497270\n",
       "JESUS DE NAZARETH      37.492877\n",
       "GURIGICA               38.371041\n",
       "Name: Neighbourhood, dtype: float64"
      ]
     },
     "execution_count": 51,
     "metadata": {},
     "output_type": "execute_result"
    }
   ],
   "source": [
    "# slice neighbourhood_noshow_percent with only Neighbourhoods that have at least 1% of all patients\n",
    "neighbourhood_noshow_percent = neighbourhood_noshow_percent.loc[(Neighbourhood_weight[Neighbourhood_weight>1]).index]\n",
    "\n",
    "neighbourhood_noshow_percent.sort_values()"
   ]
  },
  {
   "cell_type": "code",
   "execution_count": 52,
   "id": "becoming-strategy",
   "metadata": {
    "scrolled": false
   },
   "outputs": [
    {
     "data": {
      "image/png": "[encoded data removed]",
      "text/plain": [
       "<Figure size 1080x360 with 1 Axes>"
      ]
     },
     "metadata": {
      "needs_background": "light"
     },
     "output_type": "display_data"
    }
   ],
   "source": [
    "#plot Neighbourhood Vs. No-showup Percent\n",
    "fig, ax = plt.subplots(figsize = (15,5))\n",
    "plt.title(\"Effect of Neighbourhood on showing up\",fontweight ='bold')\n",
    "x = np.arange(len(neighbourhood_noshow_percent))\n",
    "ax.bar(x,neighbourhood_noshow_percent.sort_values())\n",
    "plt.xticks(x,neighbourhood_noshow_percent.sort_values().index,rotation ='vertical')\n",
    "plt.xlabel(\"Neighbourhood\",fontweight ='bold')\n",
    "plt.ylabel(\"No-showup Percent\",fontweight ='bold');"
   ]
  },
  {
   "cell_type": "markdown",
   "id": "classical-ridge",
   "metadata": {},
   "source": [
    "# Conclusions\n",
    "<h1>Results</h1>\n",
    "<ol>\n",
    "    <li>Hipertension is more prevalent than Diabetes</li>\n",
    "    <li>About 42.5% of Alcoholic Patients suffer Hipertension compared to only 20.3% for Non-Alcoholic Patients,So the probability to get Hipertension are twice for Alcoholic Patients compared to non- Alcoholic Patients</li>\n",
    "    <li> About 11.4% of Alcoholic Patients suffer Diabetes compared to only 7.3% for Non-Alcoholic Patients, So the probability to get Diabetes are one and half for Alcoholic Patients compared to non- Alcoholic Patients.</li>\n",
    "    <li>About Mid 20th is the begining to get a chronic disease.</li>\n",
    "    <li>Getting older increase the risk of  getting a chronic disease.</li>\n",
    "    <li> The percent of diabetic patients with about 65 years old and older is decreasing.This makes no sense, so those older patients should be examined and surveys about there food and daily routine should be conducted.</li>\n",
    "    <li>In general, The higher the age is, the lower percentage of people who didn't show-up.</li>\n",
    "    <li>The longer the waiting time is, the higher percentage that didn't show up.</li>\n",
    "    <li>Higher percent of people with Scholarship didn’t show up.</li>\n",
    "    <li>Higher percent of people without Hypertension didn’t show up.</li>\n",
    "    <li>Higher percent of people without Diabetes didn’t show up.</li>\n",
    "    <li>Higher percent of people with Alcoholism didn’t show up.</li>\n",
    "    <li>Slightly higher percent of people that didn’t receive SMS didn’t show up.</li>\n",
    "    <li>Days in the beginning and end of the week [Monday - Saturday - Friday ] are more probable to have more patient that no-show up.</li>\n",
    "    <li> Places like GURIGICA, JESUS DE NAZARETH and ITARARÉ have high percent of no-show ups. Surveys should be carried out to collect some data about quality of doctors and the way they are treating patients and the way the people of these places are thinking.</li>\n",
    "</ol>\n",
    " \n",
    "<h2>Limitations</h2>\n",
    "<ol>\n",
    "    <li>Hipertension, Diabetes and Alcoholism data are categorical, so our explanation is restricted as we don't have information about the level of disease in each patient and disease history.  </li>\n",
    "    <li>Higher percent of people with Scholarship didn’t show up and this seems counter logic. More information is needed to make more accurate explanation. </li>\n",
    "    <li>Our explanation based on the percent of each Age that didn't show up or that has a chronic disease cann't be generalised, as we don't have equal amount of data for each age.</li>\n",
    "    \n",
    "</ol>"
   ]
  },
  {
   "cell_type": "code",
   "execution_count": null,
   "id": "threaded-istanbul",
   "metadata": {},
   "outputs": [],
   "source": []
  },
  {
   "cell_type": "code",
   "execution_count": null,
   "id": "administrative-execution",
   "metadata": {},
   "outputs": [],
   "source": []
  }
 ],
 "metadata": {
  "kernelspec": {
   "display_name": "Python 3",
   "language": "python",
   "name": "python3"
  },
  "language_info": {
   "codemirror_mode": {
    "name": "ipython",
    "version": 3
   },
   "file_extension": ".py",
   "mimetype": "text/x-python",
   "name": "python",
   "nbconvert_exporter": "python",
   "pygments_lexer": "ipython3",
   "version": "3.8.5"
  }
 },
 "nbformat": 4,
 "nbformat_minor": 5
}
